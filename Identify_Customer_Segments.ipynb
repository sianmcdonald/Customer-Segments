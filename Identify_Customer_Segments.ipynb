{
 "cells": [
  {
   "cell_type": "markdown",
   "metadata": {},
   "source": [
    "# Project: Identify Customer Segments\n",
    "\n",
    "In this project, you will apply unsupervised learning techniques to identify segments of the population that form the core customer base for a mail-order sales company in Germany. These segments can then be used to direct marketing campaigns towards audiences that will have the highest expected rate of returns. The data that you will use has been provided by our partners at Bertelsmann Arvato Analytics, and represents a real-life data science task.\n",
    "\n",
    "This notebook will help you complete this task by providing a framework within which you will perform your analysis steps. In each step of the project, you will see some text describing the subtask that you will perform, followed by one or more code cells for you to complete your work. **Feel free to add additional code and markdown cells as you go along so that you can explore everything in precise chunks.** The code cells provided in the base template will outline only the major tasks, and will usually not be enough to cover all of the minor tasks that comprise it.\n",
    "\n",
    "It should be noted that while there will be precise guidelines on how you should handle certain tasks in the project, there will also be places where an exact specification is not provided. **There will be times in the project where you will need to make and justify your own decisions on how to treat the data.** These are places where there may not be only one way to handle the data. In real-life tasks, there may be many valid ways to approach an analysis task. One of the most important things you can do is clearly document your approach so that other scientists can understand the decisions you've made.\n",
    "\n",
    "At the end of most sections, there will be a Markdown cell labeled **Discussion**. In these cells, you will report your findings for the completed section, as well as document the decisions that you made in your approach to each subtask. **Your project will be evaluated not just on the code used to complete the tasks outlined, but also your communication about your observations and conclusions at each stage.**"
   ]
  },
  {
   "cell_type": "code",
   "execution_count": 1,
   "metadata": {},
   "outputs": [],
   "source": [
    "# import libraries here; add more as necessary\n",
    "import numpy as np\n",
    "import pandas as pd\n",
    "import matplotlib.pyplot as plt\n",
    "import seaborn as sns\n",
    "from sklearn.preprocessing import OneHotEncoder, Imputer, StandardScaler\n",
    "import collections\n",
    "from sklearn.decomposition import PCA\n",
    "import operator\n",
    "from sklearn.cluster import KMeans\n",
    "from matplotlib.pyplot import figure\n",
    "\n",
    "# magic word for producing visualizations in notebook\n",
    "%matplotlib inline"
   ]
  },
  {
   "cell_type": "markdown",
   "metadata": {},
   "source": [
    "### Step 0: Load the Data\n",
    "\n",
    "There are four files associated with this project (not including this one):\n",
    "\n",
    "- `Udacity_AZDIAS_Subset.csv`: Demographics data for the general population of Germany; 891211 persons (rows) x 85 features (columns).\n",
    "- `Udacity_CUSTOMERS_Subset.csv`: Demographics data for customers of a mail-order company; 191652 persons (rows) x 85 features (columns).\n",
    "- `Data_Dictionary.md`: Detailed information file about the features in the provided datasets.\n",
    "- `AZDIAS_Feature_Summary.csv`: Summary of feature attributes for demographics data; 85 features (rows) x 4 columns\n",
    "\n",
    "Each row of the demographics files represents a single person, but also includes information outside of individuals, including information about their household, building, and neighborhood. You will use this information to cluster the general population into groups with similar demographic properties. Then, you will see how the people in the customers dataset fit into those created clusters. The hope here is that certain clusters are over-represented in the customers data, as compared to the general population; those over-represented clusters will be assumed to be part of the core userbase. This information can then be used for further applications, such as targeting for a marketing campaign.\n",
    "\n",
    "To start off with, load in the demographics data for the general population into a pandas DataFrame, and do the same for the feature attributes summary. Note for all of the `.csv` data files in this project: they're semicolon (`;`) delimited, so you'll need an additional argument in your [`read_csv()`](https://pandas.pydata.org/pandas-docs/stable/generated/pandas.read_csv.html) call to read in the data properly. Also, considering the size of the main dataset, it may take some time for it to load completely.\n",
    "\n",
    "Once the dataset is loaded, it's recommended that you take a little bit of time just browsing the general structure of the dataset and feature summary file. You'll be getting deep into the innards of the cleaning in the first major step of the project, so gaining some general familiarity can help you get your bearings."
   ]
  },
  {
   "cell_type": "code",
   "execution_count": 2,
   "metadata": {},
   "outputs": [],
   "source": [
    "# Load in the general demographics data.\n",
    "azdias = pd.read_csv('Udacity_AZDIAS_Subset.csv', sep=';')\n",
    "\n",
    "# Load in the feature summary file.\n",
    "feat_info = pd.read_csv('AZDIAS_Feature_Summary.csv', sep = ';')"
   ]
  },
  {
   "cell_type": "code",
   "execution_count": 3,
   "metadata": {},
   "outputs": [
    {
     "data": {
      "text/plain": [
       "4896838"
      ]
     },
     "execution_count": 3,
     "metadata": {},
     "output_type": "execute_result"
    }
   ],
   "source": [
    "# Check the structure of the data after it's loaded (e.g. print the number of\n",
    "# rows and columns, print the first few rows).\n",
    "azdias.head()\n",
    "azdias.shape\n",
    "# (891221, 85)\n",
    "\n",
    "azdias.describe()\n",
    "\n",
    "azdias.isnull().sum().sum()\n",
    "# 4896838"
   ]
  },
  {
   "cell_type": "markdown",
   "metadata": {},
   "source": [
    "## Step 1: Preprocessing\n",
    "\n",
    "### Step 1.1: Assess Missing Data\n",
    "\n",
    "The feature summary file contains a summary of properties for each demographics data column. You will use this file to help you make cleaning decisions during this stage of the project. First of all, you should assess the demographics data in terms of missing data. Pay attention to the following points as you perform your analysis, and take notes on what you observe. Make sure that you fill in the **Discussion** cell with your findings and decisions at the end of each step that has one!\n",
    "\n",
    "#### Step 1.1.1: Convert Missing Value Codes to NaNs\n",
    "The fourth column of the feature attributes summary (loaded in above as `feat_info`) documents the codes from the data dictionary that indicate missing or unknown data. While the file encodes this as a list (e.g. `[-1,0]`), this will get read in as a string object. You'll need to do a little bit of parsing to make use of it to identify and clean the data. Convert data that matches a 'missing' or 'unknown' value code into a numpy NaN value. You might want to see how much data takes on a 'missing' or 'unknown' code, and how much data is naturally missing, as a point of interest.\n",
    "\n",
    "**As one more reminder, you are encouraged to add additional cells to break up your analysis into manageable chunks.**"
   ]
  },
  {
   "cell_type": "code",
   "execution_count": 3,
   "metadata": {},
   "outputs": [],
   "source": [
    "feat_info['missing_or_unknown'].iloc[57] = feat_info['missing_or_unknown'].iloc[57].replace('X','-1')\n",
    "feat_info['missing_or_unknown'].iloc[58] = feat_info['missing_or_unknown'].iloc[58].replace('XX','-1')\n",
    "feat_info['missing_or_unknown'].iloc[59] = feat_info['missing_or_unknown'].iloc[59].replace('XX','-1')"
   ]
  },
  {
   "cell_type": "code",
   "execution_count": 4,
   "metadata": {},
   "outputs": [],
   "source": [
    "#This maps all defined null values to actual null values\n",
    "for i in range(azdias.shape[1]):\n",
    "    if feat_info.iloc[i].missing_or_unknown == '[]':\n",
    "            pass\n",
    "    else:\n",
    "        azdias.iloc[:,i] = azdias.iloc[:,i].replace(eval(feat_info.iloc[i].missing_or_unknown),np.nan)"
   ]
  },
  {
   "cell_type": "code",
   "execution_count": 5,
   "metadata": {},
   "outputs": [],
   "source": [
    "azdias.iloc[:,57].replace('X',np.nan, inplace=True)\n",
    "azdias.iloc[:,58].replace('XX',np.nan, inplace=True)\n",
    "azdias.iloc[:,59].replace('XX',np.nan, inplace=True)"
   ]
  },
  {
   "cell_type": "code",
   "execution_count": 55,
   "metadata": {},
   "outputs": [
    {
     "data": {
      "text/plain": [
       "(891221, 85)"
      ]
     },
     "execution_count": 55,
     "metadata": {},
     "output_type": "execute_result"
    }
   ],
   "source": [
    "azdias.shape"
   ]
  },
  {
   "cell_type": "markdown",
   "metadata": {},
   "source": [
    "#### Step 1.1.2: Assess Missing Data in Each Column\n",
    "\n",
    "How much missing data is present in each column? There are a few columns that are outliers in terms of the proportion of values that are missing. You will want to use matplotlib's [`hist()`](https://matplotlib.org/api/_as_gen/matplotlib.pyplot.hist.html) function to visualize the distribution of missing value counts to find these columns. Identify and document these columns. While some of these columns might have justifications for keeping or re-encoding the data, for this project you should just remove them from the dataframe. (Feel free to make remarks about these outlier columns in the discussion, however!)\n",
    "\n",
    "For the remaining features, are there any patterns in which columns have, or share, missing data?"
   ]
  },
  {
   "cell_type": "code",
   "execution_count": 6,
   "metadata": {
    "scrolled": true
   },
   "outputs": [
    {
     "data": {
      "text/plain": [
       "[0, 3, 17, 19, 23, 40]"
      ]
     },
     "execution_count": 6,
     "metadata": {},
     "output_type": "execute_result"
    }
   ],
   "source": [
    "# Perform an assessment of how much missing data there is in each column of the\n",
    "# dataset.\n",
    "\n",
    "null_columns=azdias.columns[azdias.isnull().any()]\n",
    "data = azdias[null_columns].isnull().sum()\n",
    "\n",
    "#Histogram shows >200,000 look like outliers and there are 5/6 of them\n",
    "#plt.hist(data)\n",
    "\n",
    "#This gives the reference rows for columns with really larger outliers\n",
    "#\n",
    "cols=[]\n",
    "\n",
    "for i in range(len(data)):\n",
    "     if data.iloc[i] > 200000:\n",
    "            cols.append(i)\n",
    "\n",
    "cols        \n",
    "# 0   685843\n",
    "# 3   392318\n",
    "# 17   889061\n",
    "# 19   310267\n",
    "# 23   584612\n",
    "# 40   476524    \n",
    "\n",
    "#This gets the values of the outliers\n",
    "#data.iloc[0]\n",
    "        \n",
    "#The above column numbers should be removed due to high proportion of null values\n",
    "#print(data)"
   ]
  },
  {
   "cell_type": "code",
   "execution_count": 9,
   "metadata": {},
   "outputs": [
    {
     "data": {
      "text/plain": [
       "[(116515, 7),\n",
       " (4854, 6),\n",
       " (133324, 6),\n",
       " (73499, 4),\n",
       " (93148, 4),\n",
       " (111196, 3),\n",
       " (99352, 3),\n",
       " (93740, 3),\n",
       " (77792, 2),\n",
       " (158064, 2),\n",
       " (97375, 2),\n",
       " (685843, 1)]"
      ]
     },
     "execution_count": 9,
     "metadata": {},
     "output_type": "execute_result"
    }
   ],
   "source": [
    "# Investigate patterns in the amount of missing data in each column.\n",
    "collections.Counter(data).most_common(12)"
   ]
  },
  {
   "cell_type": "code",
   "execution_count": 7,
   "metadata": {},
   "outputs": [
    {
     "data": {
      "text/html": [
       "<div>\n",
       "<style scoped>\n",
       "    .dataframe tbody tr th:only-of-type {\n",
       "        vertical-align: middle;\n",
       "    }\n",
       "\n",
       "    .dataframe tbody tr th {\n",
       "        vertical-align: top;\n",
       "    }\n",
       "\n",
       "    .dataframe thead th {\n",
       "        text-align: right;\n",
       "    }\n",
       "</style>\n",
       "<table border=\"1\" class=\"dataframe\">\n",
       "  <thead>\n",
       "    <tr style=\"text-align: right;\">\n",
       "      <th></th>\n",
       "      <th>ALTERSKATEGORIE_GROB</th>\n",
       "      <th>ANREDE_KZ</th>\n",
       "      <th>FINANZ_MINIMALIST</th>\n",
       "      <th>FINANZ_SPARER</th>\n",
       "      <th>FINANZ_VORSORGER</th>\n",
       "      <th>FINANZ_ANLEGER</th>\n",
       "      <th>FINANZ_UNAUFFAELLIGER</th>\n",
       "      <th>FINANZ_HAUSBAUER</th>\n",
       "      <th>FINANZTYP</th>\n",
       "      <th>GEBURTSJAHR</th>\n",
       "      <th>...</th>\n",
       "      <th>PLZ8_ANTG1</th>\n",
       "      <th>PLZ8_ANTG2</th>\n",
       "      <th>PLZ8_ANTG3</th>\n",
       "      <th>PLZ8_ANTG4</th>\n",
       "      <th>PLZ8_BAUMAX</th>\n",
       "      <th>PLZ8_HHZ</th>\n",
       "      <th>PLZ8_GBZ</th>\n",
       "      <th>ARBEIT</th>\n",
       "      <th>ORTSGR_KLS9</th>\n",
       "      <th>RELAT_AB</th>\n",
       "    </tr>\n",
       "  </thead>\n",
       "  <tbody>\n",
       "    <tr>\n",
       "      <th>0</th>\n",
       "      <td>2.0</td>\n",
       "      <td>1</td>\n",
       "      <td>3</td>\n",
       "      <td>4</td>\n",
       "      <td>3</td>\n",
       "      <td>5</td>\n",
       "      <td>5</td>\n",
       "      <td>3</td>\n",
       "      <td>4</td>\n",
       "      <td>NaN</td>\n",
       "      <td>...</td>\n",
       "      <td>NaN</td>\n",
       "      <td>NaN</td>\n",
       "      <td>NaN</td>\n",
       "      <td>NaN</td>\n",
       "      <td>NaN</td>\n",
       "      <td>NaN</td>\n",
       "      <td>NaN</td>\n",
       "      <td>NaN</td>\n",
       "      <td>NaN</td>\n",
       "      <td>NaN</td>\n",
       "    </tr>\n",
       "    <tr>\n",
       "      <th>1</th>\n",
       "      <td>1.0</td>\n",
       "      <td>2</td>\n",
       "      <td>1</td>\n",
       "      <td>5</td>\n",
       "      <td>2</td>\n",
       "      <td>5</td>\n",
       "      <td>4</td>\n",
       "      <td>5</td>\n",
       "      <td>1</td>\n",
       "      <td>1996.0</td>\n",
       "      <td>...</td>\n",
       "      <td>2.0</td>\n",
       "      <td>3.0</td>\n",
       "      <td>2.0</td>\n",
       "      <td>1.0</td>\n",
       "      <td>1.0</td>\n",
       "      <td>5.0</td>\n",
       "      <td>4.0</td>\n",
       "      <td>3.0</td>\n",
       "      <td>5.0</td>\n",
       "      <td>4.0</td>\n",
       "    </tr>\n",
       "    <tr>\n",
       "      <th>2</th>\n",
       "      <td>3.0</td>\n",
       "      <td>2</td>\n",
       "      <td>1</td>\n",
       "      <td>4</td>\n",
       "      <td>1</td>\n",
       "      <td>2</td>\n",
       "      <td>3</td>\n",
       "      <td>5</td>\n",
       "      <td>1</td>\n",
       "      <td>1979.0</td>\n",
       "      <td>...</td>\n",
       "      <td>3.0</td>\n",
       "      <td>3.0</td>\n",
       "      <td>1.0</td>\n",
       "      <td>0.0</td>\n",
       "      <td>1.0</td>\n",
       "      <td>4.0</td>\n",
       "      <td>4.0</td>\n",
       "      <td>3.0</td>\n",
       "      <td>5.0</td>\n",
       "      <td>2.0</td>\n",
       "    </tr>\n",
       "    <tr>\n",
       "      <th>3</th>\n",
       "      <td>4.0</td>\n",
       "      <td>2</td>\n",
       "      <td>4</td>\n",
       "      <td>2</td>\n",
       "      <td>5</td>\n",
       "      <td>2</td>\n",
       "      <td>1</td>\n",
       "      <td>2</td>\n",
       "      <td>6</td>\n",
       "      <td>1957.0</td>\n",
       "      <td>...</td>\n",
       "      <td>2.0</td>\n",
       "      <td>2.0</td>\n",
       "      <td>2.0</td>\n",
       "      <td>0.0</td>\n",
       "      <td>1.0</td>\n",
       "      <td>3.0</td>\n",
       "      <td>4.0</td>\n",
       "      <td>2.0</td>\n",
       "      <td>3.0</td>\n",
       "      <td>3.0</td>\n",
       "    </tr>\n",
       "    <tr>\n",
       "      <th>4</th>\n",
       "      <td>3.0</td>\n",
       "      <td>1</td>\n",
       "      <td>4</td>\n",
       "      <td>3</td>\n",
       "      <td>4</td>\n",
       "      <td>1</td>\n",
       "      <td>3</td>\n",
       "      <td>2</td>\n",
       "      <td>5</td>\n",
       "      <td>1963.0</td>\n",
       "      <td>...</td>\n",
       "      <td>2.0</td>\n",
       "      <td>4.0</td>\n",
       "      <td>2.0</td>\n",
       "      <td>1.0</td>\n",
       "      <td>2.0</td>\n",
       "      <td>3.0</td>\n",
       "      <td>3.0</td>\n",
       "      <td>4.0</td>\n",
       "      <td>6.0</td>\n",
       "      <td>5.0</td>\n",
       "    </tr>\n",
       "  </tbody>\n",
       "</table>\n",
       "<p>5 rows × 79 columns</p>\n",
       "</div>"
      ],
      "text/plain": [
       "   ALTERSKATEGORIE_GROB  ANREDE_KZ  FINANZ_MINIMALIST  FINANZ_SPARER  \\\n",
       "0                   2.0          1                  3              4   \n",
       "1                   1.0          2                  1              5   \n",
       "2                   3.0          2                  1              4   \n",
       "3                   4.0          2                  4              2   \n",
       "4                   3.0          1                  4              3   \n",
       "\n",
       "   FINANZ_VORSORGER  FINANZ_ANLEGER  FINANZ_UNAUFFAELLIGER  FINANZ_HAUSBAUER  \\\n",
       "0                 3               5                      5                 3   \n",
       "1                 2               5                      4                 5   \n",
       "2                 1               2                      3                 5   \n",
       "3                 5               2                      1                 2   \n",
       "4                 4               1                      3                 2   \n",
       "\n",
       "   FINANZTYP  GEBURTSJAHR    ...     PLZ8_ANTG1  PLZ8_ANTG2  PLZ8_ANTG3  \\\n",
       "0          4          NaN    ...            NaN         NaN         NaN   \n",
       "1          1       1996.0    ...            2.0         3.0         2.0   \n",
       "2          1       1979.0    ...            3.0         3.0         1.0   \n",
       "3          6       1957.0    ...            2.0         2.0         2.0   \n",
       "4          5       1963.0    ...            2.0         4.0         2.0   \n",
       "\n",
       "   PLZ8_ANTG4  PLZ8_BAUMAX  PLZ8_HHZ  PLZ8_GBZ  ARBEIT  ORTSGR_KLS9  RELAT_AB  \n",
       "0         NaN          NaN       NaN       NaN     NaN          NaN       NaN  \n",
       "1         1.0          1.0       5.0       4.0     3.0          5.0       4.0  \n",
       "2         0.0          1.0       4.0       4.0     3.0          5.0       2.0  \n",
       "3         0.0          1.0       3.0       4.0     2.0          3.0       3.0  \n",
       "4         1.0          2.0       3.0       3.0     4.0          6.0       5.0  \n",
       "\n",
       "[5 rows x 79 columns]"
      ]
     },
     "execution_count": 7,
     "metadata": {},
     "output_type": "execute_result"
    }
   ],
   "source": [
    "# Remove the outlier columns from the dataset. (You'll perform other data\n",
    "# engineering tasks such as re-encoding and imputation later.)\n",
    "\n",
    "azdias.drop(azdias.columns[cols],axis=1,inplace=True)\n",
    "\n",
    "azdias.head()"
   ]
  },
  {
   "cell_type": "markdown",
   "metadata": {},
   "source": [
    "#### Discussion 1.1.2: Assess Missing Data in Each Column\n",
    "\n",
    "There are a few columns with a lot of missing data. There are 6 outliers on the histogram showing the number of nulls in each column. I have removed columns with index in [0,3,17,19,23,40]. These all have over 35% of the data missing. The field TITEL_KZ has the most unknown values (99.8%).\n",
    "\n",
    "There are some columns which have the same amount of missing values. For example, LP_FAMILIE_FEIN and LP_FAMILIE_GROB. They are basically the same variable, just on a fine and a rough scale. \n",
    "\n",
    "There are a lot of features in the data dictionary that are very similar and could definitely be removed in PCA, as they will be highly corralated and not producing any more information.\n",
    "\n",
    "The most frequent number of mising values is 116,515 occurs 7 times and comes from the PLZ8 variables. This could be that if you don't know 1 of the answers you're unlikely to know the others. Again, these are highly corralated variables and some should probably be removed in PCA."
   ]
  },
  {
   "cell_type": "markdown",
   "metadata": {},
   "source": [
    "#### Step 1.1.3: Assess Missing Data in Each Row\n",
    "\n",
    "Now, you'll perform a similar assessment for the rows of the dataset. How much data is missing in each row? As with the columns, you should see some groups of points that have a very different numbers of missing values. Divide the data into two subsets: one for data points that are above some threshold for missing values, and a second subset for points below that threshold.\n",
    "\n",
    "In order to know what to do with the outlier rows, we should see if the distribution of data values on columns that are not missing data (or are missing very little data) are similar or different between the two groups. Select at least five of these columns and compare the distribution of values.\n",
    "- You can use seaborn's [`countplot()`](https://seaborn.pydata.org/generated/seaborn.countplot.html) function to create a bar chart of code frequencies and matplotlib's [`subplot()`](https://matplotlib.org/api/_as_gen/matplotlib.pyplot.subplot.html) function to put bar charts for the two subplots side by side.\n",
    "- To reduce repeated code, you might want to write a function that can perform this comparison, taking as one of its arguments a column to be compared.\n",
    "\n",
    "Depending on what you observe in your comparison, this will have implications on how you approach your conclusions later in the analysis. If the distributions of non-missing features look similar between the data with many missing values and the data with few or no missing values, then we could argue that simply dropping those points from the analysis won't present a major issue. On the other hand, if the data with many missing values looks very different from the data with few or no missing values, then we should make a note on those data as special. We'll revisit these data later on. **Either way, you should continue your analysis for now using just the subset of the data with few or no missing values.**"
   ]
  },
  {
   "cell_type": "code",
   "execution_count": 14,
   "metadata": {},
   "outputs": [
    {
     "data": {
      "text/plain": [
       "(array([  6.68439000e+05,   8.15200000e+04,   3.35430000e+04,\n",
       "          1.15200000e+04,   2.68800000e+03,   3.28000000e+02,\n",
       "          1.55900000e+03,   1.70010000e+04,   8.02000000e+02,\n",
       "          7.38210000e+04]),\n",
       " array([  0.,   5.,  10.,  15.,  20.,  25.,  30.,  35.,  40.,  45.,  50.]),\n",
       " <a list of 10 Patch objects>)"
      ]
     },
     "execution_count": 14,
     "metadata": {},
     "output_type": "execute_result"
    },
    {
     "data": {
      "image/png": "[encoded data removed]",
      "text/plain": [
       "<matplotlib.figure.Figure at 0x7f35ddde2400>"
      ]
     },
     "metadata": {
      "needs_background": "light"
     },
     "output_type": "display_data"
    }
   ],
   "source": [
    "# How much data is missing in each row of the dataset?\n",
    "\n",
    "nul_rows = azdias.isnull().sum(axis=1)\n",
    "\n",
    "plt.hist(nul_rows)\n",
    "#Histogram shows tailing off of null values to 25/30 and then outliers further right than that.\n",
    "#Therefore I'll split the data at  > 30 nulls values"
   ]
  },
  {
   "cell_type": "code",
   "execution_count": 15,
   "metadata": {},
   "outputs": [
    {
     "data": {
      "text/plain": [
       "[(1, 202379),\n",
       " (2, 169262),\n",
       " (3, 124442),\n",
       " (0, 97720),\n",
       " (4, 74636),\n",
       " (50, 45578),\n",
       " (47, 27349),\n",
       " (5, 22049),\n",
       " (6, 17901),\n",
       " (7, 16916),\n",
       " (9, 13109),\n",
       " (10, 12109),\n",
       " (8, 11545),\n",
       " (11, 10489),\n",
       " (12, 6803),\n",
       " (36, 5220),\n",
       " (35, 3953),\n",
       " (16, 3376),\n",
       " (37, 2945),\n",
       " (38, 2906),\n",
       " (17, 2874),\n",
       " (14, 2297),\n",
       " (15, 2209),\n",
       " (39, 1977),\n",
       " (18, 1852),\n",
       " (13, 1845),\n",
       " (34, 1420),\n",
       " (19, 1209),\n",
       " (20, 1187),\n",
       " (21, 640)]"
      ]
     },
     "execution_count": 15,
     "metadata": {},
     "output_type": "execute_result"
    }
   ],
   "source": [
    "collections.Counter(nul_rows).most_common(30)\n",
    "#45,578 rows have 50 missing values and 27,349 have 47 missing values"
   ]
  },
  {
   "cell_type": "code",
   "execution_count": 16,
   "metadata": {},
   "outputs": [],
   "source": [
    "# Write code to divide the data into two subsets based on the number of missing\n",
    "# values in each row.\n",
    "\n",
    "less_30_nulls = azdias[azdias.isnull().sum(axis=1) < 30]\n",
    "\n",
    "more_30_nulls = azdias[azdias.isnull().sum(axis=1) >= 30]"
   ]
  },
  {
   "cell_type": "code",
   "execution_count": 17,
   "metadata": {},
   "outputs": [
    {
     "name": "stdout",
     "output_type": "stream",
     "text": [
      "(798038, 79) (93183, 79)\n"
     ]
    }
   ],
   "source": [
    "print(less_30_nulls.shape, more_30_nulls.shape)"
   ]
  },
  {
   "cell_type": "code",
   "execution_count": 18,
   "metadata": {},
   "outputs": [
    {
     "name": "stdout",
     "output_type": "stream",
     "text": [
      "<30: (798038, 33) >30: (93183, 24)\n"
     ]
    },
    {
     "name": "stderr",
     "output_type": "stream",
     "text": [
      "/opt/conda/lib/python3.6/site-packages/pandas/core/frame.py:3697: SettingWithCopyWarning: \n",
      "A value is trying to be set on a copy of a slice from a DataFrame\n",
      "\n",
      "See the caveats in the documentation: http://pandas.pydata.org/pandas-docs/stable/indexing.html#indexing-view-versus-copy\n",
      "  errors=errors)\n"
     ]
    }
   ],
   "source": [
    "# Compare the distribution of values for at least five columns where there are\n",
    "# no or few missing values, between the two subsets.\n",
    "\n",
    "#Drop columns where there are any nulls values, to find columns to compare with no null values\n",
    "null_cols1=less_30_nulls.columns[less_30_nulls.isnull().any()]\n",
    "less_30_nulls.drop(null_cols1, axis = 1, inplace = True)\n",
    "\n",
    "null_cols2 = more_30_nulls.columns[more_30_nulls.isnull().any()]\n",
    "more_30_nulls.drop(null_cols2,axis=1, inplace = True)\n",
    "\n",
    "print(\"<30:\", less_30_nulls.shape, \">30:\", more_30_nulls.shape)\n"
   ]
  },
  {
   "cell_type": "code",
   "execution_count": 19,
   "metadata": {},
   "outputs": [],
   "source": [
    "#All these columns are common so we will look at 5 of these\n",
    "intersect_cols = np.intersect1d(list(less_30_nulls.columns.values), list(more_30_nulls.columns.values))"
   ]
  },
  {
   "cell_type": "code",
   "execution_count": 20,
   "metadata": {
    "scrolled": true
   },
   "outputs": [
    {
     "data": {
      "image/png": "[encoded data removed]",
      "text/plain": [
       "<matplotlib.figure.Figure at 0x7f35f3ec77b8>"
      ]
     },
     "metadata": {
      "needs_background": "light"
     },
     "output_type": "display_data"
    },
    {
     "data": {
      "image/png": "[encoded data removed]",
      "text/plain": [
       "<matplotlib.figure.Figure at 0x7f35ddfe4588>"
      ]
     },
     "metadata": {
      "needs_background": "light"
     },
     "output_type": "display_data"
    },
    {
     "data": {
      "image/png": "[encoded data removed]",
      "text/plain": [
       "<matplotlib.figure.Figure at 0x7f35ddfd67f0>"
      ]
     },
     "metadata": {
      "needs_background": "light"
     },
     "output_type": "display_data"
    },
    {
     "data": {
      "image/png": "[encoded data removed]",
      "text/plain": [
       "<matplotlib.figure.Figure at 0x7f35dbbc05f8>"
      ]
     },
     "metadata": {
      "needs_background": "light"
     },
     "output_type": "display_data"
    },
    {
     "data": {
      "image/png": "[encoded data removed]",
      "text/plain": [
       "<matplotlib.figure.Figure at 0x7f35dbb8a358>"
      ]
     },
     "metadata": {
      "needs_background": "light"
     },
     "output_type": "display_data"
    }
   ],
   "source": [
    "# compare distributions\n",
    "for col in intersect_cols[:5]:\n",
    "    fig, axes = plt.subplots(1,2,sharey=True)\n",
    "    sns.countplot(less_30_nulls[col], ax=axes[0], color='g')\n",
    "    sns.countplot(more_30_nulls[col], ax=axes[1], color='r')"
   ]
  },
  {
   "cell_type": "code",
   "execution_count": 8,
   "metadata": {},
   "outputs": [
    {
     "data": {
      "text/plain": [
       "(798038, 79)"
      ]
     },
     "execution_count": 8,
     "metadata": {},
     "output_type": "execute_result"
    }
   ],
   "source": [
    "new_data = azdias[azdias.isnull().sum(axis=1) < 30]\n",
    "new_data.shape"
   ]
  },
  {
   "cell_type": "markdown",
   "metadata": {},
   "source": [
    "#### Discussion 1.1.3: Assess Missing Data in Each Row\n",
    "\n",
    "In the histogram I produced, you see that over 30 null values in a column seems to be outside the norm. Therefor I chose to split the data at less than or greater than 30 outliers per row.\n",
    "\n",
    "I then compared columns in the two datasets that had no missing values and found that the distributions were very different. This could be due to the process of completing the questionare, for example, if a household is completing it and leaves a lot of things blank as they might have a different attitude or mindset when answering the rest of the questions, giving a drastly different result.\n",
    "\n",
    "As the columns with > 30 null values are so differently distributed, I will remove them from this analysis."
   ]
  },
  {
   "cell_type": "markdown",
   "metadata": {},
   "source": [
    "### Step 1.2: Select and Re-Encode Features\n",
    "\n",
    "Checking for missing data isn't the only way in which you can prepare a dataset for analysis. Since the unsupervised learning techniques to be used will only work on data that is encoded numerically, you need to make a few encoding changes or additional assumptions to be able to make progress. In addition, while almost all of the values in the dataset are encoded using numbers, not all of them represent numeric values. Check the third column of the feature summary (`feat_info`) for a summary of types of measurement.\n",
    "- For numeric and interval data, these features can be kept without changes.\n",
    "- Most of the variables in the dataset are ordinal in nature. While ordinal values may technically be non-linear in spacing, make the simplifying assumption that the ordinal variables can be treated as being interval in nature (that is, kept without any changes).\n",
    "- Special handling may be necessary for the remaining two variable types: categorical, and 'mixed'.\n",
    "\n",
    "In the first two parts of this sub-step, you will perform an investigation of the categorical and mixed-type features and make a decision on each of them, whether you will keep, drop, or re-encode each. Then, in the last part, you will create a new data frame with only the selected and engineered columns.\n",
    "\n",
    "Data wrangling is often the trickiest part of the data analysis process, and there's a lot of it to be done here. But stick with it: once you're done with this step, you'll be ready to get to the machine learning parts of the project!"
   ]
  },
  {
   "cell_type": "code",
   "execution_count": 22,
   "metadata": {},
   "outputs": [
    {
     "data": {
      "text/html": [
       "<div>\n",
       "<style scoped>\n",
       "    .dataframe tbody tr th:only-of-type {\n",
       "        vertical-align: middle;\n",
       "    }\n",
       "\n",
       "    .dataframe tbody tr th {\n",
       "        vertical-align: top;\n",
       "    }\n",
       "\n",
       "    .dataframe thead th {\n",
       "        text-align: right;\n",
       "    }\n",
       "</style>\n",
       "<table border=\"1\" class=\"dataframe\">\n",
       "  <thead>\n",
       "    <tr style=\"text-align: right;\">\n",
       "      <th></th>\n",
       "      <th>attribute</th>\n",
       "      <th>information_level</th>\n",
       "      <th>type</th>\n",
       "      <th>missing_or_unknown</th>\n",
       "    </tr>\n",
       "  </thead>\n",
       "  <tbody>\n",
       "    <tr>\n",
       "      <th>0</th>\n",
       "      <td>AGER_TYP</td>\n",
       "      <td>person</td>\n",
       "      <td>categorical</td>\n",
       "      <td>[-1,0]</td>\n",
       "    </tr>\n",
       "    <tr>\n",
       "      <th>1</th>\n",
       "      <td>ALTERSKATEGORIE_GROB</td>\n",
       "      <td>person</td>\n",
       "      <td>ordinal</td>\n",
       "      <td>[-1,0,9]</td>\n",
       "    </tr>\n",
       "    <tr>\n",
       "      <th>2</th>\n",
       "      <td>ANREDE_KZ</td>\n",
       "      <td>person</td>\n",
       "      <td>categorical</td>\n",
       "      <td>[-1,0]</td>\n",
       "    </tr>\n",
       "    <tr>\n",
       "      <th>3</th>\n",
       "      <td>CJT_GESAMTTYP</td>\n",
       "      <td>person</td>\n",
       "      <td>categorical</td>\n",
       "      <td>[0]</td>\n",
       "    </tr>\n",
       "    <tr>\n",
       "      <th>4</th>\n",
       "      <td>FINANZ_MINIMALIST</td>\n",
       "      <td>person</td>\n",
       "      <td>ordinal</td>\n",
       "      <td>[-1]</td>\n",
       "    </tr>\n",
       "  </tbody>\n",
       "</table>\n",
       "</div>"
      ],
      "text/plain": [
       "              attribute information_level         type missing_or_unknown\n",
       "0              AGER_TYP            person  categorical             [-1,0]\n",
       "1  ALTERSKATEGORIE_GROB            person      ordinal           [-1,0,9]\n",
       "2             ANREDE_KZ            person  categorical             [-1,0]\n",
       "3         CJT_GESAMTTYP            person  categorical                [0]\n",
       "4     FINANZ_MINIMALIST            person      ordinal               [-1]"
      ]
     },
     "execution_count": 22,
     "metadata": {},
     "output_type": "execute_result"
    }
   ],
   "source": [
    "feat_info.head()"
   ]
  },
  {
   "cell_type": "code",
   "execution_count": 23,
   "metadata": {
    "scrolled": false
   },
   "outputs": [
    {
     "data": {
      "text/plain": [
       "type\n",
       "categorical    21\n",
       "interval        1\n",
       "mixed           7\n",
       "numeric         7\n",
       "ordinal        49\n",
       "dtype: int64"
      ]
     },
     "execution_count": 23,
     "metadata": {},
     "output_type": "execute_result"
    }
   ],
   "source": [
    "# How many features are there of each data type?\n",
    "feat_info.groupby(['type']).size()"
   ]
  },
  {
   "cell_type": "markdown",
   "metadata": {},
   "source": [
    "There are 21 categorical variables and 7mixed variables that will need to be reencoded."
   ]
  },
  {
   "cell_type": "markdown",
   "metadata": {},
   "source": [
    "#### Step 1.2.1: Re-Encode Categorical Features\n",
    "\n",
    "For categorical data, you would ordinarily need to encode the levels as dummy variables. Depending on the number of categories, perform one of the following:\n",
    "- For binary (two-level) categoricals that take numeric values, you can keep them without needing to do anything.\n",
    "- There is one binary variable that takes on non-numeric values. For this one, you need to re-encode the values as numbers or create a dummy variable.\n",
    "- For multi-level categoricals (three or more values), you can choose to encode the values using multiple dummy variables (e.g. via [OneHotEncoder](http://scikit-learn.org/stable/modules/generated/sklearn.preprocessing.OneHotEncoder.html)), or (to keep things straightforward) just drop them from the analysis. As always, document your choices in the Discussion section."
   ]
  },
  {
   "cell_type": "code",
   "execution_count": 9,
   "metadata": {},
   "outputs": [
    {
     "name": "stderr",
     "output_type": "stream",
     "text": [
      "/opt/conda/lib/python3.6/site-packages/pandas/core/frame.py:3697: SettingWithCopyWarning: \n",
      "A value is trying to be set on a copy of a slice from a DataFrame\n",
      "\n",
      "See the caveats in the documentation: http://pandas.pydata.org/pandas-docs/stable/indexing.html#indexing-view-versus-copy\n",
      "  errors=errors)\n"
     ]
    }
   ],
   "source": [
    "new_feat_info = feat_info.drop(cols) #Dropping columns we removed earlier for null values\n",
    "new_feat_info2 = new_feat_info[new_feat_info['type']=='categorical']\n",
    "new_feat_info2.drop([2,13,39,41,55,58],inplace =True) #Dropping columns that don't need to be one hot encoded & 58 to be dropped"
   ]
  },
  {
   "cell_type": "code",
   "execution_count": 10,
   "metadata": {},
   "outputs": [
    {
     "name": "stderr",
     "output_type": "stream",
     "text": [
      "/opt/conda/lib/python3.6/site-packages/pandas/core/generic.py:5890: SettingWithCopyWarning: \n",
      "A value is trying to be set on a copy of a slice from a DataFrame\n",
      "\n",
      "See the caveats in the documentation: http://pandas.pydata.org/pandas-docs/stable/indexing.html#indexing-view-versus-copy\n",
      "  self._update_inplace(new_data)\n"
     ]
    }
   ],
   "source": [
    "#Manually replacing binary columns\n",
    "new_data['OST_WEST_KZ'].replace(['W', 'O'], [1, 0], inplace=True)\n",
    "new_data['VERS_TYP'].replace([2.0, 1.0], [1, 0], inplace=True)\n",
    "new_data['ANREDE_KZ'].replace([2.0, 1.0], [1, 0], inplace=True)"
   ]
  },
  {
   "cell_type": "code",
   "execution_count": 11,
   "metadata": {},
   "outputs": [
    {
     "data": {
      "text/plain": [
       "(798038, 79)"
      ]
     },
     "execution_count": 11,
     "metadata": {},
     "output_type": "execute_result"
    }
   ],
   "source": [
    "new_data.shape"
   ]
  },
  {
   "cell_type": "code",
   "execution_count": 12,
   "metadata": {
    "scrolled": true
   },
   "outputs": [],
   "source": [
    "#Gets columns that are categorical\n",
    "categorical_cols = new_feat_info2.attribute.tolist()\n",
    "\n",
    "#One hot encoding columns in above list\n",
    "new_data = pd.get_dummies(new_data, prefix_sep=\"__\", columns = categorical_cols)"
   ]
  },
  {
   "cell_type": "markdown",
   "metadata": {},
   "source": [
    "#### Discussion 1.2.1: Re-Encode Categorical Features\n",
    "I have decided to drop only 1 column. Column 58, CAMEO_DEU_2015. I am doing this because it has a lot of values so would create a large volume for one hot encoding. It also has exactly the same number of null values as CAMEO_DEUG_2015 and from the data dictionary, I would assume contain very similar information, so removing it will not impact the model.\n",
    "\n",
    "I am  leaving GREEN_AVANTGARDE and SOHO_KZ as they are as they only have 2 values of 0 and 1.\n",
    "\n",
    "I am coding the OST_WEST column in binary as 1 and 0 from O and W and also the columns VERS_TYPE and ANREDE_KZ as they are currently 1 and 2 and will be changed to 1 and 0.\n",
    "\n",
    "All the other remaining categorical variables will be encoded via one hot encoding."
   ]
  },
  {
   "cell_type": "markdown",
   "metadata": {},
   "source": [
    "#### Step 1.2.2: Engineer Mixed-Type Features\n",
    "\n",
    "There are a handful of features that are marked as \"mixed\" in the feature summary that require special treatment in order to be included in the analysis. There are two in particular that deserve attention; the handling of the rest are up to your own choices:\n",
    "- \"PRAEGENDE_JUGENDJAHRE\" combines information on three dimensions: generation by decade, movement (mainstream vs. avantgarde), and nation (east vs. west). While there aren't enough levels to disentangle east from west, you should create two new variables to capture the other two dimensions: an interval-type variable for decade, and a binary variable for movement.\n",
    "- \"CAMEO_INTL_2015\" combines information on two axes: wealth and life stage. Break up the two-digit codes by their 'tens'-place and 'ones'-place digits into two new ordinal variables (which, for the purposes of this project, is equivalent to just treating them as their raw numeric values).\n",
    "- If you decide to keep or engineer new features around the other mixed-type features, make sure you note your steps in the Discussion section.\n",
    "\n",
    "Be sure to check `Data_Dictionary.md` for the details needed to finish these tasks."
   ]
  },
  {
   "cell_type": "code",
   "execution_count": 31,
   "metadata": {},
   "outputs": [
    {
     "data": {
      "text/html": [
       "<div>\n",
       "<style scoped>\n",
       "    .dataframe tbody tr th:only-of-type {\n",
       "        vertical-align: middle;\n",
       "    }\n",
       "\n",
       "    .dataframe tbody tr th {\n",
       "        vertical-align: top;\n",
       "    }\n",
       "\n",
       "    .dataframe thead th {\n",
       "        text-align: right;\n",
       "    }\n",
       "</style>\n",
       "<table border=\"1\" class=\"dataframe\">\n",
       "  <thead>\n",
       "    <tr style=\"text-align: right;\">\n",
       "      <th></th>\n",
       "      <th>attribute</th>\n",
       "      <th>information_level</th>\n",
       "      <th>type</th>\n",
       "      <th>missing_or_unknown</th>\n",
       "    </tr>\n",
       "  </thead>\n",
       "  <tbody>\n",
       "    <tr>\n",
       "      <th>15</th>\n",
       "      <td>LP_LEBENSPHASE_FEIN</td>\n",
       "      <td>person</td>\n",
       "      <td>mixed</td>\n",
       "      <td>[0]</td>\n",
       "    </tr>\n",
       "    <tr>\n",
       "      <th>16</th>\n",
       "      <td>LP_LEBENSPHASE_GROB</td>\n",
       "      <td>person</td>\n",
       "      <td>mixed</td>\n",
       "      <td>[0]</td>\n",
       "    </tr>\n",
       "    <tr>\n",
       "      <th>22</th>\n",
       "      <td>PRAEGENDE_JUGENDJAHRE</td>\n",
       "      <td>person</td>\n",
       "      <td>mixed</td>\n",
       "      <td>[-1,0]</td>\n",
       "    </tr>\n",
       "    <tr>\n",
       "      <th>56</th>\n",
       "      <td>WOHNLAGE</td>\n",
       "      <td>building</td>\n",
       "      <td>mixed</td>\n",
       "      <td>[-1]</td>\n",
       "    </tr>\n",
       "    <tr>\n",
       "      <th>59</th>\n",
       "      <td>CAMEO_INTL_2015</td>\n",
       "      <td>microcell_rr4</td>\n",
       "      <td>mixed</td>\n",
       "      <td>[-1,-1]</td>\n",
       "    </tr>\n",
       "    <tr>\n",
       "      <th>64</th>\n",
       "      <td>KBA05_BAUMAX</td>\n",
       "      <td>microcell_rr3</td>\n",
       "      <td>mixed</td>\n",
       "      <td>[-1,0]</td>\n",
       "    </tr>\n",
       "    <tr>\n",
       "      <th>79</th>\n",
       "      <td>PLZ8_BAUMAX</td>\n",
       "      <td>macrocell_plz8</td>\n",
       "      <td>mixed</td>\n",
       "      <td>[-1,0]</td>\n",
       "    </tr>\n",
       "  </tbody>\n",
       "</table>\n",
       "</div>"
      ],
      "text/plain": [
       "                attribute information_level   type missing_or_unknown\n",
       "15    LP_LEBENSPHASE_FEIN            person  mixed                [0]\n",
       "16    LP_LEBENSPHASE_GROB            person  mixed                [0]\n",
       "22  PRAEGENDE_JUGENDJAHRE            person  mixed             [-1,0]\n",
       "56               WOHNLAGE          building  mixed               [-1]\n",
       "59        CAMEO_INTL_2015     microcell_rr4  mixed            [-1,-1]\n",
       "64           KBA05_BAUMAX     microcell_rr3  mixed             [-1,0]\n",
       "79            PLZ8_BAUMAX    macrocell_plz8  mixed             [-1,0]"
      ]
     },
     "execution_count": 31,
     "metadata": {},
     "output_type": "execute_result"
    }
   ],
   "source": [
    "feat_info[feat_info['type']=='mixed']"
   ]
  },
  {
   "cell_type": "code",
   "execution_count": 32,
   "metadata": {},
   "outputs": [],
   "source": [
    "# Investigate \"PRAEGENDE_JUGENDJAHRE\" and engineer two new variables.\n",
    "new_data['PRAEGENDE_JUGENDJAHRE_decade'] = new_data['PRAEGENDE_JUGENDJAHRE'].replace([1,2,3,4,5,6,7,8,9,10,11,12,13,14,15], [1,1,2,2,3,3,3,4,4,5,5,5,5,6,6])\n",
    "new_data['PRAEGENDE_JUGENDJAHRE_mov'] = new_data['PRAEGENDE_JUGENDJAHRE'].replace([1,2,3,4,5,6,7,8,9,10,11,12,13,14,15], [0,1,0,1,0,1,1,0,1,0,1,0,1,0,1])"
   ]
  },
  {
   "cell_type": "code",
   "execution_count": 33,
   "metadata": {},
   "outputs": [
    {
     "data": {
      "text/plain": [
       "(798038, 133)"
      ]
     },
     "execution_count": 33,
     "metadata": {},
     "output_type": "execute_result"
    }
   ],
   "source": [
    "new_data.shape"
   ]
  },
  {
   "cell_type": "code",
   "execution_count": 34,
   "metadata": {},
   "outputs": [],
   "source": [
    "# Investigate \"CAMEO_INTL_2015\" and engineer two new variables.\n",
    "\n",
    "#Gets the first digit\n",
    "new_data['CAMEO_INTL_2015_Wealth'] = pd.to_numeric(new_data['CAMEO_INTL_2015'].str.strip().str[-1])\n",
    "#Gets the second digit\n",
    "new_data['CAMEO_INTL_2015_Life_T'] = pd.to_numeric(new_data['CAMEO_INTL_2015'].str.strip().str[-2])"
   ]
  },
  {
   "cell_type": "code",
   "execution_count": 35,
   "metadata": {
    "scrolled": true
   },
   "outputs": [
    {
     "data": {
      "text/plain": [
       "(798038, 135)"
      ]
     },
     "execution_count": 35,
     "metadata": {},
     "output_type": "execute_result"
    }
   ],
   "source": [
    "new_data.shape"
   ]
  },
  {
   "cell_type": "code",
   "execution_count": 36,
   "metadata": {},
   "outputs": [],
   "source": [
    "new_data['WOHNLAGE_rural'] = new_data['WOHNLAGE'].replace([1,2,3,4,5,7,8],[0,0,0,0,0,1,1])\n",
    "##new_data['KBA05_BAUMAX_bus_flag'] = new_data['KBA05_BAUMAX'].replace([1,2,3,4,5],[0,0,0,0,1]) \n",
    "##new_data['PLZ8_BAUMAX_bus_flag'] = new_data['PLZ8_BAUMAX'].replace([1,2,3,4,5],[0,0,0,0,1]) "
   ]
  },
  {
   "cell_type": "code",
   "execution_count": 37,
   "metadata": {
    "collapsed": true
   },
   "outputs": [
    {
     "data": {
      "text/plain": [
       "(798038, 136)"
      ]
     },
     "execution_count": 37,
     "metadata": {},
     "output_type": "execute_result"
    }
   ],
   "source": [
    "new_data.shape"
   ]
  },
  {
   "cell_type": "code",
   "execution_count": 38,
   "metadata": {},
   "outputs": [],
   "source": [
    "new_data.drop(['LP_LEBENSPHASE_FEIN','LP_LEBENSPHASE_GROB','WOHNLAGE','CAMEO_INTL_2015','PRAEGENDE_JUGENDJAHRE','KBA05_BAUMAX','PLZ8_BAUMAX'],axis=1, inplace=True)"
   ]
  },
  {
   "cell_type": "code",
   "execution_count": 39,
   "metadata": {},
   "outputs": [
    {
     "data": {
      "text/plain": [
       "(798038, 129)"
      ]
     },
     "execution_count": 39,
     "metadata": {},
     "output_type": "execute_result"
    }
   ],
   "source": [
    "new_data.shape"
   ]
  },
  {
   "cell_type": "markdown",
   "metadata": {},
   "source": [
    "#### Discussion 1.2.2: Engineer Mixed-Type Features\n",
    "\n",
    "There are 7 mixed variable features.\n",
    "\n",
    "1. I will remove both LP_LEBENSPHASE_FEIN and LP_LEBENSPHASE_GROB as firstly, they are reasonably complex to split out and aren't consistent for each bit of sub information. Secondly, the variables LP_FAMILIE_GROB and LP_STATUS_GROB combined basically cover the information provided by the above two, hence I don't think removing them will impact the model.\n",
    "2. I have mapped PRAEGENDE_JUGENDJAHRE to two new variables, one for the decade and one for the movement type and removed the original.\n",
    "3. For WOHNLAGE, I have decided to create just a rural flag using this variable and drop the original variable. I am doing this because REGIOTYP covers the neighbourhood aspect of WOHNLAGE, however, I don't see another variable that encompasses a rural flag that we have kept in the data set, and as such it could be useful.\n",
    "4. CAMEO_INTL_2015 has been split by digit into two new variables for wealth and Life type, with the original dropped.\n",
    "5. I am dropping the columns KBA05_BAUMAX and PLZ8_BAUMAX because they both have a lot of null values.\n"
   ]
  },
  {
   "cell_type": "markdown",
   "metadata": {},
   "source": [
    "#### Step 1.2.3: Complete Feature Selection\n",
    "\n",
    "In order to finish this step up, you need to make sure that your data frame now only has the columns that you want to keep. To summarize, the dataframe should consist of the following:\n",
    "- All numeric, interval, and ordinal type columns from the original dataset.\n",
    "- Binary categorical features (all numerically-encoded).\n",
    "- Engineered features from other multi-level categorical features and mixed features.\n",
    "\n",
    "Make sure that for any new columns that you have engineered, that you've excluded the original columns from the final dataset. Otherwise, their values will interfere with the analysis later on the project. For example, you should not keep \"PRAEGENDE_JUGENDJAHRE\", since its values won't be useful for the algorithm: only the values derived from it in the engineered features you created should be retained. As a reminder, your data should only be from **the subset with few or no missing values**."
   ]
  },
  {
   "cell_type": "code",
   "execution_count": 40,
   "metadata": {
    "collapsed": true
   },
   "outputs": [
    {
     "data": {
      "text/plain": [
       "ALTERSKATEGORIE_GROB            float64\n",
       "ANREDE_KZ                         int64\n",
       "FINANZ_MINIMALIST                 int64\n",
       "FINANZ_SPARER                     int64\n",
       "FINANZ_VORSORGER                  int64\n",
       "FINANZ_ANLEGER                    int64\n",
       "FINANZ_UNAUFFAELLIGER             int64\n",
       "FINANZ_HAUSBAUER                  int64\n",
       "GEBURTSJAHR                     float64\n",
       "GREEN_AVANTGARDE                  int64\n",
       "HEALTH_TYP                      float64\n",
       "SEMIO_SOZ                         int64\n",
       "SEMIO_FAM                         int64\n",
       "SEMIO_REL                         int64\n",
       "SEMIO_MAT                         int64\n",
       "SEMIO_VERT                        int64\n",
       "SEMIO_LUST                        int64\n",
       "SEMIO_ERL                         int64\n",
       "SEMIO_KULT                        int64\n",
       "SEMIO_RAT                         int64\n",
       "SEMIO_KRIT                        int64\n",
       "SEMIO_DOM                         int64\n",
       "SEMIO_KAEM                        int64\n",
       "SEMIO_PFLICHT                     int64\n",
       "SEMIO_TRADV                       int64\n",
       "SOHO_KZ                         float64\n",
       "VERS_TYP                        float64\n",
       "ALTER_HH                        float64\n",
       "ANZ_PERSONEN                    float64\n",
       "ANZ_TITEL                       float64\n",
       "                                 ...   \n",
       "ZABEOTYP_4                        uint8\n",
       "ZABEOTYP_5                        uint8\n",
       "ZABEOTYP_6                        uint8\n",
       "KK_KUNDENTYP_1.0                  uint8\n",
       "KK_KUNDENTYP_2.0                  uint8\n",
       "KK_KUNDENTYP_3.0                  uint8\n",
       "KK_KUNDENTYP_4.0                  uint8\n",
       "KK_KUNDENTYP_5.0                  uint8\n",
       "KK_KUNDENTYP_6.0                  uint8\n",
       "GEBAEUDETYP_1.0                   uint8\n",
       "GEBAEUDETYP_2.0                   uint8\n",
       "GEBAEUDETYP_3.0                   uint8\n",
       "GEBAEUDETYP_4.0                   uint8\n",
       "GEBAEUDETYP_5.0                   uint8\n",
       "GEBAEUDETYP_6.0                   uint8\n",
       "GEBAEUDETYP_8.0                   uint8\n",
       "CAMEO_DEUG_2015_1                 uint8\n",
       "CAMEO_DEUG_2015_2                 uint8\n",
       "CAMEO_DEUG_2015_3                 uint8\n",
       "CAMEO_DEUG_2015_4                 uint8\n",
       "CAMEO_DEUG_2015_5                 uint8\n",
       "CAMEO_DEUG_2015_6                 uint8\n",
       "CAMEO_DEUG_2015_7                 uint8\n",
       "CAMEO_DEUG_2015_8                 uint8\n",
       "CAMEO_DEUG_2015_9                 uint8\n",
       "PRAEGENDE_JUGENDJAHRE_decade    float64\n",
       "PRAEGENDE_JUGENDJAHRE_mov       float64\n",
       "CAMEO_INTL_2015_Wealth          float64\n",
       "CAMEO_INTL_2015_Life_T          float64\n",
       "WOHNLAGE_rural                  float64\n",
       "Length: 129, dtype: object"
      ]
     },
     "execution_count": 40,
     "metadata": {},
     "output_type": "execute_result"
    }
   ],
   "source": [
    "#pd.set_option('display.max_columns', 15)\n",
    "new_data.dtypes"
   ]
  },
  {
   "cell_type": "code",
   "execution_count": 69,
   "metadata": {},
   "outputs": [
    {
     "data": {
      "text/plain": [
       "array([dtype('float64'), dtype('int64'), dtype('uint8')], dtype=object)"
      ]
     },
     "execution_count": 69,
     "metadata": {},
     "output_type": "execute_result"
    }
   ],
   "source": [
    "# If there are other re-engineering tasks you need to perform, make sure you\n",
    "# take care of them here. (Dealing with missing data will come in step 2.1.)\n",
    "new_data.dtypes.unique()\n",
    "\n",
    "#All columns in the data are now numerical and all object variables have been dealt with or removed."
   ]
  },
  {
   "cell_type": "markdown",
   "metadata": {},
   "source": [
    "### Step 1.3: Create a Cleaning Function\n",
    "\n",
    "Even though you've finished cleaning up the general population demographics data, it's important to look ahead to the future and realize that you'll need to perform the same cleaning steps on the customer demographics data. In this substep, complete the function below to execute the main feature selection, encoding, and re-engineering steps you performed above. Then, when it comes to looking at the customer data in Step 3, you can just run this function on that DataFrame to get the trimmed dataset in a single step."
   ]
  },
  {
   "cell_type": "code",
   "execution_count": 3,
   "metadata": {},
   "outputs": [],
   "source": [
    "def clean_data(df, feat_info = feat_info):\n",
    "    \"\"\"\n",
    "    Perform feature trimming, re-encoding, and engineering for demographics\n",
    "    data\n",
    "    \n",
    "    INPUT: Demographics DataFrame\n",
    "    OUTPUT: Trimmed and cleaned demographics DataFrame\n",
    "    \"\"\"    \n",
    "    # Put in code here to execute all main cleaning steps:\n",
    "    #Converting most missing values to null\n",
    "    feat_info['missing_or_unknown'].iloc[57] = feat_info['missing_or_unknown'].iloc[57].replace('X','-1')\n",
    "    feat_info['missing_or_unknown'].iloc[58] = feat_info['missing_or_unknown'].iloc[58].replace('XX','-1')\n",
    "    feat_info['missing_or_unknown'].iloc[59] = feat_info['missing_or_unknown'].iloc[59].replace('XX','-1')\n",
    "    \n",
    "    for i in range(df.shape[1]):\n",
    "        if feat_info.iloc[i].missing_or_unknown == '[]':\n",
    "            pass\n",
    "        else:\n",
    "            df.iloc[:,i] = df.iloc[:,i].replace(eval(feat_info.iloc[i].missing_or_unknown),np.nan)\n",
    "    \n",
    "    #Replacing the X's with nulls\n",
    "    df.iloc[:,57].replace('X',np.nan, inplace=True)\n",
    "    df.iloc[:,58].replace('XX',np.nan, inplace=True)\n",
    "    df.iloc[:,59].replace('XX',np.nan, inplace=True)\n",
    "    \n",
    "    #Removing columns with > 200000 null values\n",
    "#     null_columns=df.columns[df.isnull().any()]\n",
    "#     null_data = df[null_columns].isnull().sum()\n",
    "\n",
    "#     cols=[]\n",
    "\n",
    "#     for i in range(len(null_data)):\n",
    "#         if null_data.iloc[i] > 200000:\n",
    "#             cols.append(i)\n",
    "\n",
    "     #I'm making this less generalised so that the same columns in the customer data will be removed.       \n",
    "            \n",
    "    cols2 = [0, 3, 17, 19, 23, 40]\n",
    "    \n",
    "    #Drop the cols\n",
    "    #df.drop(df.columns[cols],axis=1,inplace=True)\n",
    "    \n",
    "    df.drop(df.columns[cols2],axis=1,inplace=True)\n",
    "    \n",
    "    \n",
    "    #Drop rows where there are over 30 null values\n",
    "    new_data = df[df.isnull().sum(axis=1) < 30]\n",
    "    \n",
    "    #creating new feat_info\n",
    "    new_feat_info = feat_info.drop(cols2) #Dropping columns we removed earlier for null values\n",
    "    new_feat_info2 = new_feat_info[new_feat_info['type']=='categorical']\n",
    "    new_feat_info2.drop([2,13,39,41,55,58],inplace=True) #Dropping columns that don't need to be one hot encoded & 58 to be dropped\n",
    "    categorical_cols = new_feat_info2.attribute.tolist()\n",
    "\n",
    "    #Replacing some variables with binary\n",
    "    new_data['OST_WEST_KZ'].replace(['W', 'O'], [1, 0], inplace=True)\n",
    "    new_data['VERS_TYP'].replace([2.0, 1.0], [1, 0], inplace=True)\n",
    "    new_data['ANREDE_KZ'].replace([2.0, 1.0], [1, 0], inplace=True)\n",
    "\n",
    "    #One hot encoding\n",
    "    new_data = pd.get_dummies(new_data, columns = categorical_cols)\n",
    "\n",
    "    #Re-engineering\n",
    "    new_data['PRAEGENDE_JUGENDJAHRE_decade'] = new_data['PRAEGENDE_JUGENDJAHRE'].replace([1,2,3,4,5,6,7,8,9,10,11,12,13,14,15], [1,1,2,2,3,3,3,4,4,5,5,5,5,6,6])\n",
    "    new_data['PRAEGENDE_JUGENDJAHRE_mov'] = new_data['PRAEGENDE_JUGENDJAHRE'].replace([1,2,3,4,5,6,7,8,9,10,11,12,13,14,15], [0,1,0,1,0,1,1,0,1,0,1,0,1,0,1])\n",
    "    new_data['CAMEO_INTL_2015_Wealth'] = pd.to_numeric(new_data['CAMEO_INTL_2015'].str.strip().str[-1])\n",
    "    new_data['CAMEO_INTL_2015_Life_T'] = pd.to_numeric(new_data['CAMEO_INTL_2015'].str.strip().str[-2])\n",
    "    new_data['WOHNLAGE_rural'] = new_data['WOHNLAGE'].replace([1,2,3,4,5,7,8],[0,0,0,0,0,1,1])\n",
    "\n",
    "    #Drop what we dont need\n",
    "    new_data.drop(['CAMEO_DEU_2015'],axis=1, inplace=True)\n",
    "    new_data.drop(['LP_LEBENSPHASE_FEIN','LP_LEBENSPHASE_GROB','WOHNLAGE','CAMEO_INTL_2015','PRAEGENDE_JUGENDJAHRE','KBA05_BAUMAX','PLZ8_BAUMAX'],axis=1, inplace=True)\n",
    "    \n",
    "    # Return the cleaned dataframe.\n",
    "    return new_data\n",
    "    "
   ]
  },
  {
   "cell_type": "code",
   "execution_count": 4,
   "metadata": {},
   "outputs": [
    {
     "name": "stderr",
     "output_type": "stream",
     "text": [
      "/opt/conda/lib/python3.6/site-packages/pandas/core/frame.py:3697: SettingWithCopyWarning: \n",
      "A value is trying to be set on a copy of a slice from a DataFrame\n",
      "\n",
      "See the caveats in the documentation: http://pandas.pydata.org/pandas-docs/stable/indexing.html#indexing-view-versus-copy\n",
      "  errors=errors)\n",
      "/opt/conda/lib/python3.6/site-packages/pandas/core/generic.py:5890: SettingWithCopyWarning: \n",
      "A value is trying to be set on a copy of a slice from a DataFrame\n",
      "\n",
      "See the caveats in the documentation: http://pandas.pydata.org/pandas-docs/stable/indexing.html#indexing-view-versus-copy\n",
      "  self._update_inplace(new_data)\n"
     ]
    }
   ],
   "source": [
    "#azdias = pd.read_csv('Udacity_AZDIAS_Subset.csv', sep=';')\n",
    "az_data = clean_data(azdias)"
   ]
  },
  {
   "cell_type": "code",
   "execution_count": 5,
   "metadata": {},
   "outputs": [
    {
     "data": {
      "text/plain": [
       "(798038, 129)"
      ]
     },
     "execution_count": 5,
     "metadata": {},
     "output_type": "execute_result"
    }
   ],
   "source": [
    "az_data.shape"
   ]
  },
  {
   "cell_type": "markdown",
   "metadata": {},
   "source": [
    "## Step 2: Feature Transformation\n",
    "\n",
    "### Step 2.1: Apply Feature Scaling\n",
    "\n",
    "Before we apply dimensionality reduction techniques to the data, we need to perform feature scaling so that the principal component vectors are not influenced by the natural differences in scale for features. Starting from this part of the project, you'll want to keep an eye on the [API reference page for sklearn](http://scikit-learn.org/stable/modules/classes.html) to help you navigate to all of the classes and functions that you'll need. In this substep, you'll need to check the following:\n",
    "\n",
    "- sklearn requires that data not have missing values in order for its estimators to work properly. So, before applying the scaler to your data, make sure that you've cleaned the DataFrame of the remaining missing values. This can be as simple as just removing all data points with missing data, or applying an [Imputer](http://scikit-learn.org/stable/modules/generated/sklearn.preprocessing.Imputer.html) to replace all missing values. You might also try a more complicated procedure where you temporarily remove missing values in order to compute the scaling parameters before re-introducing those missing values and applying imputation. Think about how much missing data you have and what possible effects each approach might have on your analysis, and justify your decision in the discussion section below.\n",
    "- For the actual scaling function, a [StandardScaler](http://scikit-learn.org/stable/modules/generated/sklearn.preprocessing.StandardScaler.html) instance is suggested, scaling each feature to mean 0 and standard deviation 1.\n",
    "- For these classes, you can make use of the `.fit_transform()` method to both fit a procedure to the data as well as apply the transformation to the data at the same time. Don't forget to keep the fit sklearn objects handy, since you'll be applying them to the customer demographics data towards the end of the project."
   ]
  },
  {
   "cell_type": "code",
   "execution_count": 44,
   "metadata": {},
   "outputs": [
    {
     "name": "stdout",
     "output_type": "stream",
     "text": [
      "1.26 % of the data is null\n"
     ]
    }
   ],
   "source": [
    "print(round((az_data.isnull().sum(axis=0).sum()/(az_data.shape[0]*az_data.shape[1]))*100,2), \"% of the data is null\")"
   ]
  },
  {
   "cell_type": "code",
   "execution_count": 6,
   "metadata": {
    "scrolled": true
   },
   "outputs": [],
   "source": [
    "# Replace all null values with the mean of the column\n",
    "imp_mean = Imputer(missing_values = 'NaN', strategy='mean', axis=0)\n",
    "az_data_imped = imp_mean.fit_transform(az_data)"
   ]
  },
  {
   "cell_type": "code",
   "execution_count": 7,
   "metadata": {},
   "outputs": [
    {
     "data": {
      "text/plain": [
       "True"
      ]
     },
     "execution_count": 7,
     "metadata": {},
     "output_type": "execute_result"
    }
   ],
   "source": [
    "az_data_imped.shape == az_data.shape"
   ]
  },
  {
   "cell_type": "code",
   "execution_count": 7,
   "metadata": {},
   "outputs": [],
   "source": [
    "# Apply feature scaling to the general population demographics data.\n",
    "scaler = StandardScaler()\n",
    "X_s = scaler.fit_transform(az_data_imped)\n",
    "\n",
    "scaled_data = pd.DataFrame(X_s, columns=az_data.columns)"
   ]
  },
  {
   "cell_type": "code",
   "execution_count": 48,
   "metadata": {},
   "outputs": [
    {
     "data": {
      "text/html": [
       "<div>\n",
       "<style scoped>\n",
       "    .dataframe tbody tr th:only-of-type {\n",
       "        vertical-align: middle;\n",
       "    }\n",
       "\n",
       "    .dataframe tbody tr th {\n",
       "        vertical-align: top;\n",
       "    }\n",
       "\n",
       "    .dataframe thead th {\n",
       "        text-align: right;\n",
       "    }\n",
       "</style>\n",
       "<table border=\"1\" class=\"dataframe\">\n",
       "  <thead>\n",
       "    <tr style=\"text-align: right;\">\n",
       "      <th></th>\n",
       "      <th>ALTERSKATEGORIE_GROB</th>\n",
       "      <th>ANREDE_KZ</th>\n",
       "      <th>FINANZ_MINIMALIST</th>\n",
       "      <th>FINANZ_SPARER</th>\n",
       "      <th>FINANZ_VORSORGER</th>\n",
       "      <th>FINANZ_ANLEGER</th>\n",
       "      <th>FINANZ_UNAUFFAELLIGER</th>\n",
       "      <th>FINANZ_HAUSBAUER</th>\n",
       "      <th>GEBURTSJAHR</th>\n",
       "      <th>GREEN_AVANTGARDE</th>\n",
       "      <th>...</th>\n",
       "      <th>CAMEO_DEUG_2015_5</th>\n",
       "      <th>CAMEO_DEUG_2015_6</th>\n",
       "      <th>CAMEO_DEUG_2015_7</th>\n",
       "      <th>CAMEO_DEUG_2015_8</th>\n",
       "      <th>CAMEO_DEUG_2015_9</th>\n",
       "      <th>PRAEGENDE_JUGENDJAHRE_decade</th>\n",
       "      <th>PRAEGENDE_JUGENDJAHRE_mov</th>\n",
       "      <th>CAMEO_INTL_2015_Wealth</th>\n",
       "      <th>CAMEO_INTL_2015_Life_T</th>\n",
       "      <th>WOHNLAGE_rural</th>\n",
       "    </tr>\n",
       "  </thead>\n",
       "  <tbody>\n",
       "    <tr>\n",
       "      <th>0</th>\n",
       "      <td>-1.766035</td>\n",
       "      <td>0.957931</td>\n",
       "      <td>-1.494618</td>\n",
       "      <td>1.537966</td>\n",
       "      <td>-1.040680</td>\n",
       "      <td>1.466022</td>\n",
       "      <td>0.958707</td>\n",
       "      <td>1.339295</td>\n",
       "      <td>2.079101</td>\n",
       "      <td>-0.530419</td>\n",
       "      <td>...</td>\n",
       "      <td>-0.272887</td>\n",
       "      <td>-0.391100</td>\n",
       "      <td>-0.328975</td>\n",
       "      <td>2.221705</td>\n",
       "      <td>-0.395992</td>\n",
       "      <td>1.165663</td>\n",
       "      <td>-0.553142</td>\n",
       "      <td>-1.266408</td>\n",
       "      <td>1.191303</td>\n",
       "      <td>-0.552787</td>\n",
       "    </tr>\n",
       "    <tr>\n",
       "      <th>1</th>\n",
       "      <td>0.201250</td>\n",
       "      <td>0.957931</td>\n",
       "      <td>-1.494618</td>\n",
       "      <td>0.864599</td>\n",
       "      <td>-1.766957</td>\n",
       "      <td>-0.570972</td>\n",
       "      <td>0.244165</td>\n",
       "      <td>1.339295</td>\n",
       "      <td>0.856453</td>\n",
       "      <td>1.885301</td>\n",
       "      <td>...</td>\n",
       "      <td>-0.272887</td>\n",
       "      <td>-0.391100</td>\n",
       "      <td>-0.328975</td>\n",
       "      <td>-0.450105</td>\n",
       "      <td>-0.395992</td>\n",
       "      <td>1.165663</td>\n",
       "      <td>1.875371</td>\n",
       "      <td>0.761969</td>\n",
       "      <td>-0.865157</td>\n",
       "      <td>-0.552787</td>\n",
       "    </tr>\n",
       "    <tr>\n",
       "      <th>2</th>\n",
       "      <td>1.184893</td>\n",
       "      <td>0.957931</td>\n",
       "      <td>0.683130</td>\n",
       "      <td>-0.482135</td>\n",
       "      <td>1.138151</td>\n",
       "      <td>-0.570972</td>\n",
       "      <td>-1.184917</td>\n",
       "      <td>-0.791224</td>\n",
       "      <td>-0.725798</td>\n",
       "      <td>-0.530419</td>\n",
       "      <td>...</td>\n",
       "      <td>-0.272887</td>\n",
       "      <td>-0.391100</td>\n",
       "      <td>-0.328975</td>\n",
       "      <td>-0.450105</td>\n",
       "      <td>-0.395992</td>\n",
       "      <td>-0.232023</td>\n",
       "      <td>-0.553142</td>\n",
       "      <td>-0.590282</td>\n",
       "      <td>-1.550644</td>\n",
       "      <td>1.809017</td>\n",
       "    </tr>\n",
       "    <tr>\n",
       "      <th>3</th>\n",
       "      <td>0.201250</td>\n",
       "      <td>-1.043916</td>\n",
       "      <td>0.683130</td>\n",
       "      <td>0.191232</td>\n",
       "      <td>0.411874</td>\n",
       "      <td>-1.249969</td>\n",
       "      <td>0.244165</td>\n",
       "      <td>-0.791224</td>\n",
       "      <td>-0.294275</td>\n",
       "      <td>-0.530419</td>\n",
       "      <td>...</td>\n",
       "      <td>-0.272887</td>\n",
       "      <td>2.556891</td>\n",
       "      <td>-0.328975</td>\n",
       "      <td>-0.450105</td>\n",
       "      <td>-0.395992</td>\n",
       "      <td>-0.232023</td>\n",
       "      <td>-0.553142</td>\n",
       "      <td>0.085844</td>\n",
       "      <td>0.505817</td>\n",
       "      <td>-0.552787</td>\n",
       "    </tr>\n",
       "    <tr>\n",
       "      <th>4</th>\n",
       "      <td>-1.766035</td>\n",
       "      <td>0.957931</td>\n",
       "      <td>-0.042786</td>\n",
       "      <td>-1.155502</td>\n",
       "      <td>1.138151</td>\n",
       "      <td>-0.570972</td>\n",
       "      <td>-0.470376</td>\n",
       "      <td>1.339295</td>\n",
       "      <td>-1.732685</td>\n",
       "      <td>-0.530419</td>\n",
       "      <td>...</td>\n",
       "      <td>-0.272887</td>\n",
       "      <td>-0.391100</td>\n",
       "      <td>-0.328975</td>\n",
       "      <td>2.221705</td>\n",
       "      <td>-0.395992</td>\n",
       "      <td>-1.629709</td>\n",
       "      <td>-0.553142</td>\n",
       "      <td>0.761969</td>\n",
       "      <td>1.191303</td>\n",
       "      <td>1.809017</td>\n",
       "    </tr>\n",
       "  </tbody>\n",
       "</table>\n",
       "<p>5 rows × 129 columns</p>\n",
       "</div>"
      ],
      "text/plain": [
       "   ALTERSKATEGORIE_GROB  ANREDE_KZ  FINANZ_MINIMALIST  FINANZ_SPARER  \\\n",
       "0             -1.766035   0.957931          -1.494618       1.537966   \n",
       "1              0.201250   0.957931          -1.494618       0.864599   \n",
       "2              1.184893   0.957931           0.683130      -0.482135   \n",
       "3              0.201250  -1.043916           0.683130       0.191232   \n",
       "4             -1.766035   0.957931          -0.042786      -1.155502   \n",
       "\n",
       "   FINANZ_VORSORGER  FINANZ_ANLEGER  FINANZ_UNAUFFAELLIGER  FINANZ_HAUSBAUER  \\\n",
       "0         -1.040680        1.466022               0.958707          1.339295   \n",
       "1         -1.766957       -0.570972               0.244165          1.339295   \n",
       "2          1.138151       -0.570972              -1.184917         -0.791224   \n",
       "3          0.411874       -1.249969               0.244165         -0.791224   \n",
       "4          1.138151       -0.570972              -0.470376          1.339295   \n",
       "\n",
       "   GEBURTSJAHR  GREEN_AVANTGARDE       ...        CAMEO_DEUG_2015_5  \\\n",
       "0     2.079101         -0.530419       ...                -0.272887   \n",
       "1     0.856453          1.885301       ...                -0.272887   \n",
       "2    -0.725798         -0.530419       ...                -0.272887   \n",
       "3    -0.294275         -0.530419       ...                -0.272887   \n",
       "4    -1.732685         -0.530419       ...                -0.272887   \n",
       "\n",
       "   CAMEO_DEUG_2015_6  CAMEO_DEUG_2015_7  CAMEO_DEUG_2015_8  CAMEO_DEUG_2015_9  \\\n",
       "0          -0.391100          -0.328975           2.221705          -0.395992   \n",
       "1          -0.391100          -0.328975          -0.450105          -0.395992   \n",
       "2          -0.391100          -0.328975          -0.450105          -0.395992   \n",
       "3           2.556891          -0.328975          -0.450105          -0.395992   \n",
       "4          -0.391100          -0.328975           2.221705          -0.395992   \n",
       "\n",
       "   PRAEGENDE_JUGENDJAHRE_decade  PRAEGENDE_JUGENDJAHRE_mov  \\\n",
       "0                      1.165663                  -0.553142   \n",
       "1                      1.165663                   1.875371   \n",
       "2                     -0.232023                  -0.553142   \n",
       "3                     -0.232023                  -0.553142   \n",
       "4                     -1.629709                  -0.553142   \n",
       "\n",
       "   CAMEO_INTL_2015_Wealth  CAMEO_INTL_2015_Life_T  WOHNLAGE_rural  \n",
       "0               -1.266408                1.191303       -0.552787  \n",
       "1                0.761969               -0.865157       -0.552787  \n",
       "2               -0.590282               -1.550644        1.809017  \n",
       "3                0.085844                0.505817       -0.552787  \n",
       "4                0.761969                1.191303        1.809017  \n",
       "\n",
       "[5 rows x 129 columns]"
      ]
     },
     "execution_count": 48,
     "metadata": {},
     "output_type": "execute_result"
    }
   ],
   "source": [
    "scaled_data.head()"
   ]
  },
  {
   "cell_type": "markdown",
   "metadata": {},
   "source": [
    "### Discussion 2.1: Apply Feature Scaling\n",
    "\n",
    "Since such a small percentage of the data is null now, I'm going to impute and change the nulls to the means of the columns and then do standard scaling. Since most columns have just a small range of values, changing nulls to means shouldnt affect the modeling too much."
   ]
  },
  {
   "cell_type": "markdown",
   "metadata": {},
   "source": [
    "### Step 2.2: Perform Dimensionality Reduction\n",
    "\n",
    "On your scaled data, you are now ready to apply dimensionality reduction techniques.\n",
    "\n",
    "- Use sklearn's [PCA](http://scikit-learn.org/stable/modules/generated/sklearn.decomposition.PCA.html) class to apply principal component analysis on the data, thus finding the vectors of maximal variance in the data. To start, you should not set any parameters (so all components are computed) or set a number of components that is at least half the number of features (so there's enough features to see the general trend in variability).\n",
    "- Check out the ratio of variance explained by each principal component as well as the cumulative variance explained. Try plotting the cumulative or sequential values using matplotlib's [`plot()`](https://matplotlib.org/api/_as_gen/matplotlib.pyplot.plot.html) function. Based on what you find, select a value for the number of transformed features you'll retain for the clustering part of the project.\n",
    "- Once you've made a choice for the number of components to keep, make sure you re-fit a PCA instance to perform the decided-on transformation."
   ]
  },
  {
   "cell_type": "code",
   "execution_count": 53,
   "metadata": {},
   "outputs": [],
   "source": [
    "# Apply PCA to the data.\n",
    "pca = PCA()\n",
    "x_pca = pca.fit_transform(scaled_data)"
   ]
  },
  {
   "cell_type": "code",
   "execution_count": 54,
   "metadata": {},
   "outputs": [
    {
     "data": {
      "text/plain": [
       "<Container object of 131 artists>"
      ]
     },
     "execution_count": 54,
     "metadata": {},
     "output_type": "execute_result"
    },
    {
     "data": {
      "image/png": "[encoded data removed]",
      "text/plain": [
       "<matplotlib.figure.Figure at 0x7f9e4913eb38>"
      ]
     },
     "metadata": {
      "needs_background": "light"
     },
     "output_type": "display_data"
    }
   ],
   "source": [
    "#calculate variance ratios\n",
    "variance = pca.explained_variance_ratio_ \n",
    "\n",
    "num_features = len(variance)\n",
    "x_axis = np.arange(num_features)\n",
    "\n",
    "plt.subplots(figsize=(12,9))\n",
    "plt.xlabel('Features')\n",
    "plt.ylabel('Percentage of Variance Explained')\n",
    "plt.title('PCA Analysis')\n",
    "\n",
    "plt.bar(x_axis, variance, color = 'g')"
   ]
  },
  {
   "cell_type": "code",
   "execution_count": 55,
   "metadata": {},
   "outputs": [],
   "source": [
    "#Sum them cumulatively\n",
    "var=np.cumsum(np.round(variance, decimals=3)*100)"
   ]
  },
  {
   "cell_type": "code",
   "execution_count": 58,
   "metadata": {},
   "outputs": [
    {
     "data": {
      "text/plain": [
       "<matplotlib.lines.Line2D at 0x7f9e4af5e278>"
      ]
     },
     "execution_count": 58,
     "metadata": {},
     "output_type": "execute_result"
    },
    {
     "data": {
      "image/png": "[encoded data removed]",
      "text/plain": [
       "<matplotlib.figure.Figure at 0x7f9e4940d160>"
      ]
     },
     "metadata": {
      "needs_background": "light"
     },
     "output_type": "display_data"
    }
   ],
   "source": [
    "plt.ylabel('Percentage of Variance Explained')\n",
    "plt.xlabel('Number of Features')\n",
    "plt.title('PCA Analysis')\n",
    "plt.style.context('seaborn-whitegrid')\n",
    "\n",
    "plt.plot(var,color='g')\n",
    "# plt.axhline(y=95, ls ='--',color = 'y')\n",
    "# plt.axvline(x=85, ls ='--',color = 'y')\n",
    "\n",
    "plt.axhline(y=85, ls ='--',color = 'r')\n",
    "plt.axvline(x=60, ls ='--',color = 'r')"
   ]
  },
  {
   "cell_type": "code",
   "execution_count": 8,
   "metadata": {},
   "outputs": [],
   "source": [
    "# Re-apply PCA to the data while selecting for number of components to retain.\n",
    "# Chosen to retain 60 components.\n",
    "pca = PCA(60)\n",
    "x_pca = pca.fit_transform(scaled_data)"
   ]
  },
  {
   "cell_type": "code",
   "execution_count": 10,
   "metadata": {},
   "outputs": [
    {
     "data": {
      "text/plain": [
       "(798038, 60)"
      ]
     },
     "execution_count": 10,
     "metadata": {},
     "output_type": "execute_result"
    }
   ],
   "source": [
    "x_pca.shape"
   ]
  },
  {
   "cell_type": "markdown",
   "metadata": {},
   "source": [
    "### Discussion 2.2: Perform Dimensionality Reduction\n",
    "\n",
    "The first graph and variance values show us that the first 6 features explain approximately 1/3 of the total variance. \n",
    "\n",
    "The second graph shows us that to achieve 85% of the variance explained, we need the 60 most important features.\n",
    "\n",
    "Since getting 95% would require 15 more features, and 60 features is still a lot, I think 85% of the variance explained is sufficient, as such I will retain the top 60 features."
   ]
  },
  {
   "cell_type": "markdown",
   "metadata": {},
   "source": [
    "### Step 2.3: Interpret Principal Components\n",
    "\n",
    "Now that we have our transformed principal components, it's a nice idea to check out the weight of each variable on the first few components to see if they can be interpreted in some fashion.\n",
    "\n",
    "As a reminder, each principal component is a unit vector that points in the direction of highest variance (after accounting for the variance captured by earlier principal components). The further a weight is from zero, the more the principal component is in the direction of the corresponding feature. If two features have large weights of the same sign (both positive or both negative), then increases in one tend expect to be associated with increases in the other. To contrast, features with different signs can be expected to show a negative correlation: increases in one variable should result in a decrease in the other.\n",
    "\n",
    "- To investigate the features, you should map each weight to their corresponding feature name, then sort the features according to weight. The most interesting features for each principal component, then, will be those at the beginning and end of the sorted list. Use the data dictionary document to help you understand these most prominent features, their relationships, and what a positive or negative value on the principal component might indicate.\n",
    "- You should investigate and interpret feature associations from the first three principal components in this substep. To help facilitate this, you should write a function that you can call at any time to print the sorted list of feature weights, for the *i*-th principal component. This might come in handy in the next step of the project, when you interpret the tendencies of the discovered clusters."
   ]
  },
  {
   "cell_type": "code",
   "execution_count": 32,
   "metadata": {},
   "outputs": [
    {
     "data": {
      "text/html": [
       "<div>\n",
       "<style scoped>\n",
       "    .dataframe tbody tr th:only-of-type {\n",
       "        vertical-align: middle;\n",
       "    }\n",
       "\n",
       "    .dataframe tbody tr th {\n",
       "        vertical-align: top;\n",
       "    }\n",
       "\n",
       "    .dataframe thead th {\n",
       "        text-align: right;\n",
       "    }\n",
       "</style>\n",
       "<table border=\"1\" class=\"dataframe\">\n",
       "  <thead>\n",
       "    <tr style=\"text-align: right;\">\n",
       "      <th></th>\n",
       "      <th>ALTERSKATEGORIE_GROB</th>\n",
       "      <th>ANREDE_KZ</th>\n",
       "      <th>FINANZ_MINIMALIST</th>\n",
       "      <th>FINANZ_SPARER</th>\n",
       "      <th>FINANZ_VORSORGER</th>\n",
       "      <th>FINANZ_ANLEGER</th>\n",
       "      <th>FINANZ_UNAUFFAELLIGER</th>\n",
       "      <th>FINANZ_HAUSBAUER</th>\n",
       "      <th>GEBURTSJAHR</th>\n",
       "      <th>GREEN_AVANTGARDE</th>\n",
       "      <th>...</th>\n",
       "      <th>CAMEO_DEUG_2015_5</th>\n",
       "      <th>CAMEO_DEUG_2015_6</th>\n",
       "      <th>CAMEO_DEUG_2015_7</th>\n",
       "      <th>CAMEO_DEUG_2015_8</th>\n",
       "      <th>CAMEO_DEUG_2015_9</th>\n",
       "      <th>PRAEGENDE_JUGENDJAHRE_decade</th>\n",
       "      <th>PRAEGENDE_JUGENDJAHRE_mov</th>\n",
       "      <th>CAMEO_INTL_2015_Wealth</th>\n",
       "      <th>CAMEO_INTL_2015_Life_T</th>\n",
       "      <th>WOHNLAGE_rural</th>\n",
       "    </tr>\n",
       "  </thead>\n",
       "  <tbody>\n",
       "    <tr>\n",
       "      <th>0</th>\n",
       "      <td>-0.109757</td>\n",
       "      <td>0.012959</td>\n",
       "      <td>-0.206297</td>\n",
       "      <td>0.140842</td>\n",
       "      <td>-0.108421</td>\n",
       "      <td>0.074187</td>\n",
       "      <td>0.074574</td>\n",
       "      <td>0.145479</td>\n",
       "      <td>0.082875</td>\n",
       "      <td>-0.101924</td>\n",
       "      <td>...</td>\n",
       "      <td>-0.009678</td>\n",
       "      <td>0.001392</td>\n",
       "      <td>0.034278</td>\n",
       "      <td>0.091667</td>\n",
       "      <td>0.115274</td>\n",
       "      <td>0.099764</td>\n",
       "      <td>-0.099656</td>\n",
       "      <td>-0.113826</td>\n",
       "      <td>0.184715</td>\n",
       "      <td>-0.119942</td>\n",
       "    </tr>\n",
       "    <tr>\n",
       "      <th>1</th>\n",
       "      <td>0.222461</td>\n",
       "      <td>0.050242</td>\n",
       "      <td>0.061569</td>\n",
       "      <td>-0.213803</td>\n",
       "      <td>0.212137</td>\n",
       "      <td>-0.193433</td>\n",
       "      <td>-0.210414</td>\n",
       "      <td>0.111688</td>\n",
       "      <td>-0.189617</td>\n",
       "      <td>-0.019595</td>\n",
       "      <td>...</td>\n",
       "      <td>-0.007103</td>\n",
       "      <td>0.014140</td>\n",
       "      <td>0.015146</td>\n",
       "      <td>0.047678</td>\n",
       "      <td>0.033169</td>\n",
       "      <td>-0.234618</td>\n",
       "      <td>-0.018048</td>\n",
       "      <td>-0.003753</td>\n",
       "      <td>0.079208</td>\n",
       "      <td>-0.063220</td>\n",
       "    </tr>\n",
       "    <tr>\n",
       "      <th>2</th>\n",
       "      <td>0.025128</td>\n",
       "      <td>-0.352347</td>\n",
       "      <td>0.130169</td>\n",
       "      <td>-0.065020</td>\n",
       "      <td>0.059398</td>\n",
       "      <td>-0.155589</td>\n",
       "      <td>-0.059618</td>\n",
       "      <td>-0.047433</td>\n",
       "      <td>-0.054773</td>\n",
       "      <td>0.056433</td>\n",
       "      <td>...</td>\n",
       "      <td>-0.001345</td>\n",
       "      <td>-0.002492</td>\n",
       "      <td>0.000768</td>\n",
       "      <td>0.014752</td>\n",
       "      <td>0.022921</td>\n",
       "      <td>-0.065671</td>\n",
       "      <td>0.054176</td>\n",
       "      <td>-0.014258</td>\n",
       "      <td>0.024601</td>\n",
       "      <td>-0.036475</td>\n",
       "    </tr>\n",
       "    <tr>\n",
       "      <th>3</th>\n",
       "      <td>-0.019697</td>\n",
       "      <td>0.058493</td>\n",
       "      <td>0.034169</td>\n",
       "      <td>-0.002496</td>\n",
       "      <td>-0.011271</td>\n",
       "      <td>-0.094570</td>\n",
       "      <td>0.065585</td>\n",
       "      <td>-0.065267</td>\n",
       "      <td>0.025461</td>\n",
       "      <td>0.331792</td>\n",
       "      <td>...</td>\n",
       "      <td>0.024196</td>\n",
       "      <td>-0.033412</td>\n",
       "      <td>-0.018913</td>\n",
       "      <td>-0.022121</td>\n",
       "      <td>-0.022627</td>\n",
       "      <td>0.032116</td>\n",
       "      <td>0.331473</td>\n",
       "      <td>0.040430</td>\n",
       "      <td>-0.086855</td>\n",
       "      <td>-0.211734</td>\n",
       "    </tr>\n",
       "    <tr>\n",
       "      <th>4</th>\n",
       "      <td>0.060402</td>\n",
       "      <td>-0.035506</td>\n",
       "      <td>0.081144</td>\n",
       "      <td>-0.024649</td>\n",
       "      <td>0.001746</td>\n",
       "      <td>0.041565</td>\n",
       "      <td>-0.118336</td>\n",
       "      <td>-0.085253</td>\n",
       "      <td>0.010078</td>\n",
       "      <td>-0.087147</td>\n",
       "      <td>...</td>\n",
       "      <td>-0.035566</td>\n",
       "      <td>-0.007181</td>\n",
       "      <td>-0.005452</td>\n",
       "      <td>0.051848</td>\n",
       "      <td>0.063757</td>\n",
       "      <td>0.017330</td>\n",
       "      <td>-0.093027</td>\n",
       "      <td>-0.051765</td>\n",
       "      <td>0.091904</td>\n",
       "      <td>-0.009258</td>\n",
       "    </tr>\n",
       "  </tbody>\n",
       "</table>\n",
       "<p>5 rows × 129 columns</p>\n",
       "</div>"
      ],
      "text/plain": [
       "   ALTERSKATEGORIE_GROB  ANREDE_KZ  FINANZ_MINIMALIST  FINANZ_SPARER  \\\n",
       "0             -0.109757   0.012959          -0.206297       0.140842   \n",
       "1              0.222461   0.050242           0.061569      -0.213803   \n",
       "2              0.025128  -0.352347           0.130169      -0.065020   \n",
       "3             -0.019697   0.058493           0.034169      -0.002496   \n",
       "4              0.060402  -0.035506           0.081144      -0.024649   \n",
       "\n",
       "   FINANZ_VORSORGER  FINANZ_ANLEGER  FINANZ_UNAUFFAELLIGER  FINANZ_HAUSBAUER  \\\n",
       "0         -0.108421        0.074187               0.074574          0.145479   \n",
       "1          0.212137       -0.193433              -0.210414          0.111688   \n",
       "2          0.059398       -0.155589              -0.059618         -0.047433   \n",
       "3         -0.011271       -0.094570               0.065585         -0.065267   \n",
       "4          0.001746        0.041565              -0.118336         -0.085253   \n",
       "\n",
       "   GEBURTSJAHR  GREEN_AVANTGARDE       ...        CAMEO_DEUG_2015_5  \\\n",
       "0     0.082875         -0.101924       ...                -0.009678   \n",
       "1    -0.189617         -0.019595       ...                -0.007103   \n",
       "2    -0.054773          0.056433       ...                -0.001345   \n",
       "3     0.025461          0.331792       ...                 0.024196   \n",
       "4     0.010078         -0.087147       ...                -0.035566   \n",
       "\n",
       "   CAMEO_DEUG_2015_6  CAMEO_DEUG_2015_7  CAMEO_DEUG_2015_8  CAMEO_DEUG_2015_9  \\\n",
       "0           0.001392           0.034278           0.091667           0.115274   \n",
       "1           0.014140           0.015146           0.047678           0.033169   \n",
       "2          -0.002492           0.000768           0.014752           0.022921   \n",
       "3          -0.033412          -0.018913          -0.022121          -0.022627   \n",
       "4          -0.007181          -0.005452           0.051848           0.063757   \n",
       "\n",
       "   PRAEGENDE_JUGENDJAHRE_decade  PRAEGENDE_JUGENDJAHRE_mov  \\\n",
       "0                      0.099764                  -0.099656   \n",
       "1                     -0.234618                  -0.018048   \n",
       "2                     -0.065671                   0.054176   \n",
       "3                      0.032116                   0.331473   \n",
       "4                      0.017330                  -0.093027   \n",
       "\n",
       "   CAMEO_INTL_2015_Wealth  CAMEO_INTL_2015_Life_T  WOHNLAGE_rural  \n",
       "0               -0.113826                0.184715       -0.119942  \n",
       "1               -0.003753                0.079208       -0.063220  \n",
       "2               -0.014258                0.024601       -0.036475  \n",
       "3                0.040430               -0.086855       -0.211734  \n",
       "4               -0.051765                0.091904       -0.009258  \n",
       "\n",
       "[5 rows x 129 columns]"
      ]
     },
     "execution_count": 32,
     "metadata": {},
     "output_type": "execute_result"
    }
   ],
   "source": [
    "pca_red_data = pd.DataFrame(pca.components_,columns=scaled_data.columns)\n",
    "\n",
    "pca_red_data.head()"
   ]
  },
  {
   "cell_type": "code",
   "execution_count": 12,
   "metadata": {},
   "outputs": [],
   "source": [
    "def get_pca_weights(pca, i):\n",
    "    map_weights = {}\n",
    "    for count, feature in enumerate(pca_red_data.columns):\n",
    "        map_weights[feature] = pca.components_[i][count]\n",
    "    \n",
    "    sorted_weights = sorted(map_weights.items(), key=operator.itemgetter(1), reverse=True)\n",
    "    \n",
    "    return pd.DataFrame(sorted_weights,columns = ['variable','weight'])"
   ]
  },
  {
   "cell_type": "code",
   "execution_count": 13,
   "metadata": {},
   "outputs": [],
   "source": [
    "def plot_top_bot_3(weights_pca, col):\n",
    "    largest_3 = weights_pca.nlargest(3,'weight')\n",
    "    smallest_3 = weights_pca.nsmallest(3,'weight')\n",
    "    \n",
    "    top_3_bot_3 = pd.concat([largest_3, smallest_3])\n",
    "    \n",
    "    var_order = [top_3_bot_3['variable'][0],top_3_bot_3['variable'][1],\n",
    "                 top_3_bot_3['variable'][2],top_3_bot_3['variable'][126],\n",
    "                 top_3_bot_3['variable'][127],top_3_bot_3['variable'][128]]\n",
    "    \n",
    "    ax = top_3_bot_3.set_index(\"variable\").loc[var_order].plot(kind=\"bar\", legend=False,color=col)\n",
    "    ax.set_ylabel(\"Value\")"
   ]
  },
  {
   "cell_type": "code",
   "execution_count": 58,
   "metadata": {},
   "outputs": [
    {
     "data": {
      "image/png": "[encoded data removed]",
      "text/plain": [
       "<matplotlib.figure.Figure at 0x7f35db9b8748>"
      ]
     },
     "metadata": {
      "needs_background": "light"
     },
     "output_type": "display_data"
    }
   ],
   "source": [
    "#Looking at the first principle component\n",
    "weights_pca_1 = get_pca_weights(pca,1)\n",
    "plot_top_bot_3(weights_pca_1, col = 'r')"
   ]
  },
  {
   "cell_type": "markdown",
   "metadata": {},
   "source": [
    "The 6 most important features for the first component are:\n",
    "- ALTERSKATEGORIE_GROB - the estimated age\n",
    "- FINANZ_VORSORGER - how financially prepared people are\n",
    "- ZABEOTYP_3 - if they look fr fair supplied energy\n",
    "- FINANZ_UNAUFFAELLIGER - ordinary finance type\n",
    "- FINANZ_SPARER - if they're a money saver\n",
    "- PRAEGENDE_JUGENDJAHRE_decade - what decade dominated the person's youth\n",
    "\n",
    "It seems like the first component is focused on the age and finance type of a customer, which are likely highly corralated. It has a positive corralation with age and a negative with the decade they grew up, as expected and positive corralation if they are finacially savy, and negative if they don't bother with finances too much."
   ]
  },
  {
   "cell_type": "code",
   "execution_count": 59,
   "metadata": {
    "scrolled": true
   },
   "outputs": [
    {
     "data": {
      "image/png": "[encoded data removed]",
      "text/plain": [
       "<matplotlib.figure.Figure at 0x7f35f3b76d30>"
      ]
     },
     "metadata": {
      "needs_background": "light"
     },
     "output_type": "display_data"
    }
   ],
   "source": [
    "weights_pca_2 = get_pca_weights(pca,2)\n",
    "\n",
    "plot_top_bot_3(weights_pca_2,col='y')"
   ]
  },
  {
   "cell_type": "markdown",
   "metadata": {},
   "source": [
    "The 6 most important features for the second component are:\n",
    "- SEMIO_VERT - how dreamful a person is\n",
    "- SEMIO_FAM - how family oriented a person is\n",
    "- SEMIO_SOZ - how social a person is\n",
    "- ANREDE_KZ - gender\n",
    "- SEMIO_KAEM - \thow combative a person is\n",
    "- SEMIO_DOM - how dominating a person is\n",
    "\n",
    "These centre around what kind of personality the person is. We have family oriented, dreamful and social are all positively corralated with each other which makes sense. And how domintating and combative a person is negatively corralated, and as these could be considered opposite this also makes sense.\n",
    "The gender is interesting and I from the calculations below you can see that on average in this data, men are more dreamful, family oriented and sociable, which explains the negative corralation."
   ]
  },
  {
   "cell_type": "code",
   "execution_count": 60,
   "metadata": {},
   "outputs": [
    {
     "name": "stdout",
     "output_type": "stream",
     "text": [
      "Man: 5.61909155796\n",
      "Woman: 2.56337885903\n",
      "Man: 5.53553282807\n",
      "Woman: 3.11682444848\n",
      "Man: 5.09509621616\n",
      "Woman: 2.89390829671\n"
     ]
    }
   ],
   "source": [
    "print(\"Man:\",azdias['SEMIO_VERT'][azdias['ANREDE_KZ']== 1].sum()/len(azdias[azdias['ANREDE_KZ']== 1]))\n",
    "print(\"Woman:\",azdias['SEMIO_VERT'][azdias['ANREDE_KZ']== 2].sum()/len(azdias[azdias['ANREDE_KZ']== 2]))\n",
    "\n",
    "print(\"Man:\",azdias['SEMIO_FAM'][azdias['ANREDE_KZ']== 1].sum()/len(azdias[azdias['ANREDE_KZ']== 1]))\n",
    "print(\"Woman:\",azdias['SEMIO_FAM'][azdias['ANREDE_KZ']== 2].sum()/len(azdias[azdias['ANREDE_KZ']== 2]))\n",
    "\n",
    "print(\"Man:\",azdias['SEMIO_SOZ'][azdias['ANREDE_KZ']== 1].sum()/len(azdias[azdias['ANREDE_KZ']== 1]))\n",
    "print(\"Woman:\",azdias['SEMIO_SOZ'][azdias['ANREDE_KZ']== 2].sum()/len(azdias[azdias['ANREDE_KZ']== 2]))"
   ]
  },
  {
   "cell_type": "code",
   "execution_count": 61,
   "metadata": {},
   "outputs": [
    {
     "data": {
      "image/png": "[encoded data removed]",
      "text/plain": [
       "<matplotlib.figure.Figure at 0x7f35dbd06710>"
      ]
     },
     "metadata": {
      "needs_background": "light"
     },
     "output_type": "display_data"
    }
   ],
   "source": [
    "weights_pca_3 = get_pca_weights(pca,3)\n",
    "plot_top_bot_3(weights_pca_3,col='g')"
   ]
  },
  {
   "cell_type": "markdown",
   "metadata": {},
   "source": [
    "The 6 most important features for the third component are:\n",
    "- PRAEGENDE_JUGENDJAHRE_mov - dominating movement of persons youth\n",
    "- LP_STATUS_GROB_5.0 - top earners flag\n",
    "- GREEN_AVANTGARDE - Membership in environmental sustainability as part of youth\n",
    "- HH_EINKOMMEN_SCORE - Estimated household net income\n",
    "- WOHNLAGE_rural - rural flag\n",
    "- BALLRAUM - Distance to nearest urban center\n",
    "\n",
    "The dominating movement of a persons youth and GREEN_AVANTGARDE are highly corralated, which makes sense as both are related to what a person did in their youth. The rural flag and distance to urban centre are corralated which makes sense.\n",
    "This 3rd component seems to be about a persons upbringing and current financial situation."
   ]
  },
  {
   "cell_type": "markdown",
   "metadata": {},
   "source": [
    "### Discussion 2.3: Interpret Principal Components\n",
    "\n",
    "Components discussed above."
   ]
  },
  {
   "cell_type": "markdown",
   "metadata": {},
   "source": [
    "## Step 3: Clustering\n",
    "\n",
    "### Step 3.1: Apply Clustering to General Population\n",
    "\n",
    "You've assessed and cleaned the demographics data, then scaled and transformed them. Now, it's time to see how the data clusters in the principal components space. In this substep, you will apply k-means clustering to the dataset and use the average within-cluster distances from each point to their assigned cluster's centroid to decide on a number of clusters to keep.\n",
    "\n",
    "- Use sklearn's [KMeans](http://scikit-learn.org/stable/modules/generated/sklearn.cluster.KMeans.html#sklearn.cluster.KMeans) class to perform k-means clustering on the PCA-transformed data.\n",
    "- Then, compute the average difference from each point to its assigned cluster's center. **Hint**: The KMeans object's `.score()` method might be useful here, but note that in sklearn, scores tend to be defined so that larger is better. Try applying it to a small, toy dataset, or use an internet search to help your understanding.\n",
    "- Perform the above two steps for a number of different cluster counts. You can then see how the average distance decreases with an increasing number of clusters. However, each additional cluster provides a smaller net benefit. Use this fact to select a final number of clusters in which to group the data. **Warning**: because of the large size of the dataset, it can take a long time for the algorithm to resolve. The more clusters to fit, the longer the algorithm will take. You should test for cluster counts through at least 10 clusters to get the full picture, but you shouldn't need to test for a number of clusters above about 30.\n",
    "- Once you've selected a final number of clusters to use, re-fit a KMeans instance to perform the clustering operation. Make sure that you also obtain the cluster assignments for the general demographics data, since you'll be using them in the final Step 3.3."
   ]
  },
  {
   "cell_type": "code",
   "execution_count": 17,
   "metadata": {},
   "outputs": [],
   "source": [
    "# Over a number of different cluster counts...\n",
    "x_pca.shape\n",
    "\n",
    "\n",
    "kmeans_3 = KMeans(n_clusters = 4, random_state=0).fit(x_pca)\n",
    "#kmeans_3.fit(pca_red_data)\n",
    "score_3 = kmeans_3.score(x_pca)\n",
    "\n",
    "score_3\n",
    "\n",
    "def modeling(k,data):\n",
    "    kmeans = KMeans(k).fit(data)\n",
    "    score = kmeans.score(data)\n",
    "    return k, abs(score) \n",
    "    "
   ]
  },
  {
   "cell_type": "code",
   "execution_count": 35,
   "metadata": {},
   "outputs": [
    {
     "data": {
      "text/plain": [
       "(10, 63592815.079260588)"
      ]
     },
     "execution_count": 35,
     "metadata": {},
     "output_type": "execute_result"
    }
   ],
   "source": [
    "modeling(10,x_pca)"
   ]
  },
  {
   "cell_type": "code",
   "execution_count": 36,
   "metadata": {
    "collapsed": true
   },
   "outputs": [
    {
     "ename": "KeyboardInterrupt",
     "evalue": "",
     "output_type": "error",
     "traceback": [
      "\u001b[0;31m---------------------------------------------------------------------------\u001b[0m",
      "\u001b[0;31mKeyboardInterrupt\u001b[0m                         Traceback (most recent call last)",
      "\u001b[0;32m<ipython-input-36-f3f5f7e5572e>\u001b[0m in \u001b[0;36m<module>\u001b[0;34m()\u001b[0m\n\u001b[1;32m      2\u001b[0m \u001b[0;32mfor\u001b[0m \u001b[0mk\u001b[0m \u001b[0;32min\u001b[0m \u001b[0mrange\u001b[0m\u001b[0;34m(\u001b[0m\u001b[0;36m2\u001b[0m\u001b[0;34m,\u001b[0m\u001b[0;36m30\u001b[0m\u001b[0;34m)\u001b[0m\u001b[0;34m:\u001b[0m\u001b[0;34m\u001b[0m\u001b[0m\n\u001b[1;32m      3\u001b[0m     \u001b[0mx\u001b[0m\u001b[0;34m.\u001b[0m\u001b[0mappend\u001b[0m\u001b[0;34m(\u001b[0m\u001b[0mmodeling\u001b[0m\u001b[0;34m(\u001b[0m\u001b[0mk\u001b[0m\u001b[0;34m,\u001b[0m\u001b[0mx_pca\u001b[0m\u001b[0;34m)\u001b[0m\u001b[0;34m[\u001b[0m\u001b[0;36m0\u001b[0m\u001b[0;34m]\u001b[0m\u001b[0;34m)\u001b[0m\u001b[0;34m\u001b[0m\u001b[0m\n\u001b[0;32m----> 4\u001b[0;31m     \u001b[0my\u001b[0m\u001b[0;34m.\u001b[0m\u001b[0mappend\u001b[0m\u001b[0;34m(\u001b[0m\u001b[0mmodeling\u001b[0m\u001b[0;34m(\u001b[0m\u001b[0mk\u001b[0m\u001b[0;34m,\u001b[0m\u001b[0mx_pca\u001b[0m\u001b[0;34m)\u001b[0m\u001b[0;34m[\u001b[0m\u001b[0;36m1\u001b[0m\u001b[0;34m]\u001b[0m\u001b[0;34m)\u001b[0m\u001b[0;34m\u001b[0m\u001b[0m\n\u001b[0m",
      "\u001b[0;32m<ipython-input-17-be7ff2800444>\u001b[0m in \u001b[0;36mmodeling\u001b[0;34m(k, data)\u001b[0m\n\u001b[1;32m     10\u001b[0m \u001b[0;34m\u001b[0m\u001b[0m\n\u001b[1;32m     11\u001b[0m \u001b[0;32mdef\u001b[0m \u001b[0mmodeling\u001b[0m\u001b[0;34m(\u001b[0m\u001b[0mk\u001b[0m\u001b[0;34m,\u001b[0m\u001b[0mdata\u001b[0m\u001b[0;34m)\u001b[0m\u001b[0;34m:\u001b[0m\u001b[0;34m\u001b[0m\u001b[0m\n\u001b[0;32m---> 12\u001b[0;31m     \u001b[0mkmeans\u001b[0m \u001b[0;34m=\u001b[0m \u001b[0mKMeans\u001b[0m\u001b[0;34m(\u001b[0m\u001b[0mk\u001b[0m\u001b[0;34m)\u001b[0m\u001b[0;34m.\u001b[0m\u001b[0mfit\u001b[0m\u001b[0;34m(\u001b[0m\u001b[0mdata\u001b[0m\u001b[0;34m)\u001b[0m\u001b[0;34m\u001b[0m\u001b[0m\n\u001b[0m\u001b[1;32m     13\u001b[0m     \u001b[0mscore\u001b[0m \u001b[0;34m=\u001b[0m \u001b[0mkmeans\u001b[0m\u001b[0;34m.\u001b[0m\u001b[0mscore\u001b[0m\u001b[0;34m(\u001b[0m\u001b[0mdata\u001b[0m\u001b[0;34m)\u001b[0m\u001b[0;34m\u001b[0m\u001b[0m\n\u001b[1;32m     14\u001b[0m     \u001b[0;32mreturn\u001b[0m \u001b[0mk\u001b[0m\u001b[0;34m,\u001b[0m \u001b[0mabs\u001b[0m\u001b[0;34m(\u001b[0m\u001b[0mscore\u001b[0m\u001b[0;34m)\u001b[0m\u001b[0;34m\u001b[0m\u001b[0m\n",
      "\u001b[0;32m/opt/conda/lib/python3.6/site-packages/sklearn/cluster/k_means_.py\u001b[0m in \u001b[0;36mfit\u001b[0;34m(self, X, y)\u001b[0m\n\u001b[1;32m    894\u001b[0m                 \u001b[0mtol\u001b[0m\u001b[0;34m=\u001b[0m\u001b[0mself\u001b[0m\u001b[0;34m.\u001b[0m\u001b[0mtol\u001b[0m\u001b[0;34m,\u001b[0m \u001b[0mrandom_state\u001b[0m\u001b[0;34m=\u001b[0m\u001b[0mrandom_state\u001b[0m\u001b[0;34m,\u001b[0m \u001b[0mcopy_x\u001b[0m\u001b[0;34m=\u001b[0m\u001b[0mself\u001b[0m\u001b[0;34m.\u001b[0m\u001b[0mcopy_x\u001b[0m\u001b[0;34m,\u001b[0m\u001b[0;34m\u001b[0m\u001b[0m\n\u001b[1;32m    895\u001b[0m                 \u001b[0mn_jobs\u001b[0m\u001b[0;34m=\u001b[0m\u001b[0mself\u001b[0m\u001b[0;34m.\u001b[0m\u001b[0mn_jobs\u001b[0m\u001b[0;34m,\u001b[0m \u001b[0malgorithm\u001b[0m\u001b[0;34m=\u001b[0m\u001b[0mself\u001b[0m\u001b[0;34m.\u001b[0m\u001b[0malgorithm\u001b[0m\u001b[0;34m,\u001b[0m\u001b[0;34m\u001b[0m\u001b[0m\n\u001b[0;32m--> 896\u001b[0;31m                 return_n_iter=True)\n\u001b[0m\u001b[1;32m    897\u001b[0m         \u001b[0;32mreturn\u001b[0m \u001b[0mself\u001b[0m\u001b[0;34m\u001b[0m\u001b[0m\n\u001b[1;32m    898\u001b[0m \u001b[0;34m\u001b[0m\u001b[0m\n",
      "\u001b[0;32m/opt/conda/lib/python3.6/site-packages/sklearn/cluster/k_means_.py\u001b[0m in \u001b[0;36mk_means\u001b[0;34m(X, n_clusters, init, precompute_distances, n_init, max_iter, verbose, tol, random_state, copy_x, n_jobs, algorithm, return_n_iter)\u001b[0m\n\u001b[1;32m    344\u001b[0m                 \u001b[0mX\u001b[0m\u001b[0;34m,\u001b[0m \u001b[0mn_clusters\u001b[0m\u001b[0;34m,\u001b[0m \u001b[0mmax_iter\u001b[0m\u001b[0;34m=\u001b[0m\u001b[0mmax_iter\u001b[0m\u001b[0;34m,\u001b[0m \u001b[0minit\u001b[0m\u001b[0;34m=\u001b[0m\u001b[0minit\u001b[0m\u001b[0;34m,\u001b[0m \u001b[0mverbose\u001b[0m\u001b[0;34m=\u001b[0m\u001b[0mverbose\u001b[0m\u001b[0;34m,\u001b[0m\u001b[0;34m\u001b[0m\u001b[0m\n\u001b[1;32m    345\u001b[0m                 \u001b[0mprecompute_distances\u001b[0m\u001b[0;34m=\u001b[0m\u001b[0mprecompute_distances\u001b[0m\u001b[0;34m,\u001b[0m \u001b[0mtol\u001b[0m\u001b[0;34m=\u001b[0m\u001b[0mtol\u001b[0m\u001b[0;34m,\u001b[0m\u001b[0;34m\u001b[0m\u001b[0m\n\u001b[0;32m--> 346\u001b[0;31m                 x_squared_norms=x_squared_norms, random_state=random_state)\n\u001b[0m\u001b[1;32m    347\u001b[0m             \u001b[0;31m# determine if these results are the best so far\u001b[0m\u001b[0;34m\u001b[0m\u001b[0;34m\u001b[0m\u001b[0m\n\u001b[1;32m    348\u001b[0m             \u001b[0;32mif\u001b[0m \u001b[0mbest_inertia\u001b[0m \u001b[0;32mis\u001b[0m \u001b[0;32mNone\u001b[0m \u001b[0;32mor\u001b[0m \u001b[0minertia\u001b[0m \u001b[0;34m<\u001b[0m \u001b[0mbest_inertia\u001b[0m\u001b[0;34m:\u001b[0m\u001b[0;34m\u001b[0m\u001b[0m\n",
      "\u001b[0;32m/opt/conda/lib/python3.6/site-packages/sklearn/cluster/k_means_.py\u001b[0m in \u001b[0;36m_kmeans_single_elkan\u001b[0;34m(X, n_clusters, max_iter, init, verbose, x_squared_norms, random_state, tol, precompute_distances)\u001b[0m\n\u001b[1;32m    398\u001b[0m         \u001b[0mprint\u001b[0m\u001b[0;34m(\u001b[0m\u001b[0;34m'Initialization complete'\u001b[0m\u001b[0;34m)\u001b[0m\u001b[0;34m\u001b[0m\u001b[0m\n\u001b[1;32m    399\u001b[0m     centers, labels, n_iter = k_means_elkan(X, n_clusters, centers, tol=tol,\n\u001b[0;32m--> 400\u001b[0;31m                                             max_iter=max_iter, verbose=verbose)\n\u001b[0m\u001b[1;32m    401\u001b[0m     \u001b[0minertia\u001b[0m \u001b[0;34m=\u001b[0m \u001b[0mnp\u001b[0m\u001b[0;34m.\u001b[0m\u001b[0msum\u001b[0m\u001b[0;34m(\u001b[0m\u001b[0;34m(\u001b[0m\u001b[0mX\u001b[0m \u001b[0;34m-\u001b[0m \u001b[0mcenters\u001b[0m\u001b[0;34m[\u001b[0m\u001b[0mlabels\u001b[0m\u001b[0;34m]\u001b[0m\u001b[0;34m)\u001b[0m \u001b[0;34m**\u001b[0m \u001b[0;36m2\u001b[0m\u001b[0;34m,\u001b[0m \u001b[0mdtype\u001b[0m\u001b[0;34m=\u001b[0m\u001b[0mnp\u001b[0m\u001b[0;34m.\u001b[0m\u001b[0mfloat64\u001b[0m\u001b[0;34m)\u001b[0m\u001b[0;34m\u001b[0m\u001b[0m\n\u001b[1;32m    402\u001b[0m     \u001b[0;32mreturn\u001b[0m \u001b[0mlabels\u001b[0m\u001b[0;34m,\u001b[0m \u001b[0minertia\u001b[0m\u001b[0;34m,\u001b[0m \u001b[0mcenters\u001b[0m\u001b[0;34m,\u001b[0m \u001b[0mn_iter\u001b[0m\u001b[0;34m\u001b[0m\u001b[0m\n",
      "\u001b[0;32msklearn/cluster/_k_means_elkan.pyx\u001b[0m in \u001b[0;36msklearn.cluster._k_means_elkan.k_means_elkan\u001b[0;34m()\u001b[0m\n",
      "\u001b[0;32m/opt/conda/lib/python3.6/site-packages/numpy/core/fromnumeric.py\u001b[0m in \u001b[0;36msum\u001b[0;34m(a, axis, dtype, out, keepdims)\u001b[0m\n\u001b[1;32m   1708\u001b[0m \u001b[0;34m\u001b[0m\u001b[0m\n\u001b[1;32m   1709\u001b[0m \u001b[0;34m\u001b[0m\u001b[0m\n\u001b[0;32m-> 1710\u001b[0;31m \u001b[0;32mdef\u001b[0m \u001b[0msum\u001b[0m\u001b[0;34m(\u001b[0m\u001b[0ma\u001b[0m\u001b[0;34m,\u001b[0m \u001b[0maxis\u001b[0m\u001b[0;34m=\u001b[0m\u001b[0;32mNone\u001b[0m\u001b[0;34m,\u001b[0m \u001b[0mdtype\u001b[0m\u001b[0;34m=\u001b[0m\u001b[0;32mNone\u001b[0m\u001b[0;34m,\u001b[0m \u001b[0mout\u001b[0m\u001b[0;34m=\u001b[0m\u001b[0;32mNone\u001b[0m\u001b[0;34m,\u001b[0m \u001b[0mkeepdims\u001b[0m\u001b[0;34m=\u001b[0m\u001b[0mnp\u001b[0m\u001b[0;34m.\u001b[0m\u001b[0m_NoValue\u001b[0m\u001b[0;34m)\u001b[0m\u001b[0;34m:\u001b[0m\u001b[0;34m\u001b[0m\u001b[0m\n\u001b[0m\u001b[1;32m   1711\u001b[0m     \"\"\"\n\u001b[1;32m   1712\u001b[0m     \u001b[0mSum\u001b[0m \u001b[0mof\u001b[0m \u001b[0marray\u001b[0m \u001b[0melements\u001b[0m \u001b[0mover\u001b[0m \u001b[0ma\u001b[0m \u001b[0mgiven\u001b[0m \u001b[0maxis\u001b[0m\u001b[0;34m.\u001b[0m\u001b[0;34m\u001b[0m\u001b[0m\n",
      "\u001b[0;31mKeyboardInterrupt\u001b[0m: "
     ]
    }
   ],
   "source": [
    "#This takes a long time to run to 31 so I stopped it at 15, which still takes a long time\n",
    "x,y = [],[]\n",
    "for k in range(2,16):\n",
    "    x.append(modeling(k,x_pca)[0])\n",
    "    y.append(modeling(k,x_pca)[1])\n",
    "    print(k)"
   ]
  },
  {
   "cell_type": "code",
   "execution_count": 44,
   "metadata": {},
   "outputs": [
    {
     "data": {
      "image/png": "[encoded data removed]",
      "text/plain": [
       "<matplotlib.figure.Figure at 0x7f3038b32d30>"
      ]
     },
     "metadata": {},
     "output_type": "display_data"
    }
   ],
   "source": [
    "plt.style.use('seaborn-whitegrid')\n",
    "\n",
    "plt.plot(x, y, '--ok', color='green');\n",
    "plt.xlabel('K value');\n",
    "plt.ylabel('SSE score');\n",
    "plt.title('SSE vs K');"
   ]
  },
  {
   "cell_type": "code",
   "execution_count": 9,
   "metadata": {
    "scrolled": true
   },
   "outputs": [],
   "source": [
    "# Re-fit the k-means model with the selected number of clusters and obtain\n",
    "# cluster predictions for the general population demographics data.\n",
    "kmeans = KMeans(n_clusters = 8, random_state= 0).fit(x_pca)"
   ]
  },
  {
   "cell_type": "code",
   "execution_count": 10,
   "metadata": {},
   "outputs": [
    {
     "data": {
      "text/plain": [
       "(array([  74290.,   99425.,  111211.,       0.,   96185.,  111027.,\n",
       "              0.,   73123.,  134536.,   98241.]),\n",
       " array([ 0. ,  0.7,  1.4,  2.1,  2.8,  3.5,  4.2,  4.9,  5.6,  6.3,  7. ]),\n",
       " <a list of 10 Patch objects>)"
      ]
     },
     "execution_count": 10,
     "metadata": {},
     "output_type": "execute_result"
    },
    {
     "data": {
      "image/png": "[encoded data removed]",
      "text/plain": [
       "<matplotlib.figure.Figure at 0x7fc47c7369e8>"
      ]
     },
     "metadata": {
      "needs_background": "light"
     },
     "output_type": "display_data"
    }
   ],
   "source": [
    "pop_labels = kmeans.predict(x_pca)  \n",
    "plt.hist(pop_labels)"
   ]
  },
  {
   "cell_type": "markdown",
   "metadata": {},
   "source": [
    "### Discussion 3.1: Apply Clustering to General Population\n",
    "\n",
    "I have decided to go with 8 clusters. Looking at the graph I produced above, it is hard to tell exactly where the elbow is but it looks to be somewhere between 8 and 10. The 8 cluster model will run much quicker so I will proceed with this and hopefully we will find meaningful clustering."
   ]
  },
  {
   "cell_type": "markdown",
   "metadata": {},
   "source": [
    "### Step 3.2: Apply All Steps to the Customer Data\n",
    "\n",
    "Now that you have clusters and cluster centers for the general population, it's time to see how the customer data maps on to those clusters. Take care to not confuse this for re-fitting all of the models to the customer data. Instead, you're going to use the fits from the general population to clean, transform, and cluster the customer data. In the last step of the project, you will interpret how the general population fits apply to the customer data.\n",
    "\n",
    "- Don't forget when loading in the customers data, that it is semicolon (`;`) delimited.\n",
    "- Apply the same feature wrangling, selection, and engineering steps to the customer demographics using the `clean_data()` function you created earlier. (You can assume that the customer demographics data has similar meaning behind missing data patterns as the general demographics data.)\n",
    "- Use the sklearn objects from the general demographics data, and apply their transformations to the customers data. That is, you should not be using a `.fit()` or `.fit_transform()` method to re-fit the old objects, nor should you be creating new sklearn objects! Carry the data through the feature scaling, PCA, and clustering steps, obtaining cluster assignments for all of the data in the customer demographics data."
   ]
  },
  {
   "cell_type": "code",
   "execution_count": 153,
   "metadata": {},
   "outputs": [
    {
     "name": "stderr",
     "output_type": "stream",
     "text": [
      "/opt/conda/lib/python3.6/site-packages/pandas/core/frame.py:3697: SettingWithCopyWarning: \n",
      "A value is trying to be set on a copy of a slice from a DataFrame\n",
      "\n",
      "See the caveats in the documentation: http://pandas.pydata.org/pandas-docs/stable/indexing.html#indexing-view-versus-copy\n",
      "  errors=errors)\n",
      "/opt/conda/lib/python3.6/site-packages/pandas/core/generic.py:5890: SettingWithCopyWarning: \n",
      "A value is trying to be set on a copy of a slice from a DataFrame\n",
      "\n",
      "See the caveats in the documentation: http://pandas.pydata.org/pandas-docs/stable/indexing.html#indexing-view-versus-copy\n",
      "  self._update_inplace(new_data)\n"
     ]
    },
    {
     "data": {
      "text/plain": [
       "(141724, 128)"
      ]
     },
     "execution_count": 153,
     "metadata": {},
     "output_type": "execute_result"
    }
   ],
   "source": [
    "# Load in the customer demographics data.\n",
    "customers = pd.read_csv('Udacity_CUSTOMERS_Subset.csv', sep=';')\n",
    "feat_info = pd.read_csv('AZDIAS_Feature_Summary.csv', sep = ';')\n",
    "#customers.head()\n",
    "\n",
    "cust_data = clean_data(customers)\n",
    "cust_data.shape"
   ]
  },
  {
   "cell_type": "code",
   "execution_count": 154,
   "metadata": {},
   "outputs": [
    {
     "name": "stdout",
     "output_type": "stream",
     "text": [
      "GEBAEUDETYP_5.0\n"
     ]
    }
   ],
   "source": [
    "for column in az_data.columns:\n",
    "    if column not in cust_data.columns:\n",
    "        print(column)"
   ]
  },
  {
   "cell_type": "code",
   "execution_count": 155,
   "metadata": {},
   "outputs": [],
   "source": [
    "#The above column was dropped in one hot encoding, so adding it back in with just zeros to the customer data.\n",
    "cust_data['GEBAEUDETYP_5.0'] = 0"
   ]
  },
  {
   "cell_type": "code",
   "execution_count": 156,
   "metadata": {},
   "outputs": [
    {
     "data": {
      "text/plain": [
       "(141724, 129)"
      ]
     },
     "execution_count": 156,
     "metadata": {},
     "output_type": "execute_result"
    }
   ],
   "source": [
    "cust_data.shape"
   ]
  },
  {
   "cell_type": "code",
   "execution_count": 157,
   "metadata": {},
   "outputs": [
    {
     "data": {
      "text/plain": [
       "(141724, 60)"
      ]
     },
     "execution_count": 157,
     "metadata": {},
     "output_type": "execute_result"
    }
   ],
   "source": [
    "#Impute\n",
    "imp_cust = imp_mean.transform(cust_data)\n",
    "\n",
    "#Scale\n",
    "scal_cust = scaler.transform(imp_cust)\n",
    "\n",
    "#Apply PCA\n",
    "final_cust = pca.transform(scal_cust)\n",
    "\n",
    "final_cust.shape"
   ]
  },
  {
   "cell_type": "code",
   "execution_count": 158,
   "metadata": {},
   "outputs": [
    {
     "data": {
      "text/plain": [
       "(array([   1285.,  102252.,   13447.,       0.,    1213.,   12733.,\n",
       "              0.,    2943.,    6276.,    1575.]),\n",
       " array([ 0. ,  0.7,  1.4,  2.1,  2.8,  3.5,  4.2,  4.9,  5.6,  6.3,  7. ]),\n",
       " <a list of 10 Patch objects>)"
      ]
     },
     "execution_count": 158,
     "metadata": {},
     "output_type": "execute_result"
    },
    {
     "data": {
      "image/png": "[encoded data removed]",
      "text/plain": [
       "<matplotlib.figure.Figure at 0x7fc4537049b0>"
      ]
     },
     "metadata": {
      "needs_background": "light"
     },
     "output_type": "display_data"
    }
   ],
   "source": [
    "plt.hist(cust_labels)"
   ]
  },
  {
   "cell_type": "markdown",
   "metadata": {},
   "source": [
    "### Step 3.3: Compare Customer Data to Demographics Data\n",
    "\n",
    "At this point, you have clustered data based on demographics of the general population of Germany, and seen how the customer data for a mail-order sales company maps onto those demographic clusters. In this final substep, you will compare the two cluster distributions to see where the strongest customer base for the company is.\n",
    "\n",
    "Consider the proportion of persons in each cluster for the general population, and the proportions for the customers. If we think the company's customer base to be universal, then the cluster assignment proportions should be fairly similar between the two. If there are only particular segments of the population that are interested in the company's products, then we should see a mismatch from one to the other. If there is a higher proportion of persons in a cluster for the customer data compared to the general population (e.g. 5% of persons are assigned to a cluster for the general population, but 15% of the customer data is closest to that cluster's centroid) then that suggests the people in that cluster to be a target audience for the company. On the other hand, the proportion of the data in a cluster being larger in the general population than the customer data (e.g. only 2% of customers closest to a population centroid that captures 6% of the data) suggests that group of persons to be outside of the target demographics.\n",
    "\n",
    "Take a look at the following points in this step:\n",
    "\n",
    "- Compute the proportion of data points in each cluster for the general population and the customer data. Visualizations will be useful here: both for the individual dataset proportions, but also to visualize the ratios in cluster representation between groups. Seaborn's [`countplot()`](https://seaborn.pydata.org/generated/seaborn.countplot.html) or [`barplot()`](https://seaborn.pydata.org/generated/seaborn.barplot.html) function could be handy.\n",
    "  - Recall the analysis you performed in step 1.1.3 of the project, where you separated out certain data points from the dataset if they had more than a specified threshold of missing values. If you found that this group was qualitatively different from the main bulk of the data, you should treat this as an additional data cluster in this analysis. Make sure that you account for the number of data points in this subset, for both the general population and customer datasets, when making your computations!\n",
    "- Which cluster or clusters are overrepresented in the customer dataset compared to the general population? Select at least one such cluster and infer what kind of people might be represented by that cluster. Use the principal component interpretations from step 2.3 or look at additional components to help you make this inference. Alternatively, you can use the `.inverse_transform()` method of the PCA and StandardScaler objects to transform centroids back to the original data space and interpret the retrieved values directly.\n",
    "- Perform a similar investigation for the underrepresented clusters. Which cluster or clusters are underrepresented in the customer dataset compared to the general population, and what kinds of people are typified by these clusters?"
   ]
  },
  {
   "cell_type": "code",
   "execution_count": 89,
   "metadata": {},
   "outputs": [],
   "source": [
    "gen_pop_size = az_data.shape[0]\n",
    "cust_pop_size = final_cust.shape[0]\n",
    "\n",
    "gen_cluster_sizes = np.bincount(pop_labels)\n",
    "cust_cluster_sizes = np.bincount(cust_labels)"
   ]
  },
  {
   "cell_type": "code",
   "execution_count": 39,
   "metadata": {},
   "outputs": [],
   "source": [
    "no_rows_removed_nans_cust = customers.shape[0] - cust_data.shape[0]\n",
    "no_rows_removed_nans_gen_pop = azdias.shape[0] - az_data.shape[0]"
   ]
  },
  {
   "cell_type": "code",
   "execution_count": 90,
   "metadata": {},
   "outputs": [],
   "source": [
    "cust_cluster_sizes = list(cust_cluster_sizes)\n",
    "cust_cluster_sizes.insert(0,no_rows_removed_nans_cust)\n",
    "\n",
    "gen_cluster_sizes = list(gen_cluster_sizes)\n",
    "gen_cluster_sizes.insert(0,no_rows_removed_nans_gen_pop)"
   ]
  },
  {
   "cell_type": "code",
   "execution_count": 114,
   "metadata": {},
   "outputs": [
    {
     "data": {
      "text/plain": [
       "array([ 35.22903672,   0.90669188,  72.14868336,   9.48816009,\n",
       "         0.85588891,   8.98436398,   2.07657136,   4.42832548,   1.11131495])"
      ]
     },
     "execution_count": 114,
     "metadata": {},
     "output_type": "execute_result"
    }
   ],
   "source": [
    "np.array(cust_cluster_sizes)/cust_pop_size*100"
   ]
  },
  {
   "cell_type": "code",
   "execution_count": 109,
   "metadata": {},
   "outputs": [
    {
     "data": {
      "image/png": "[encoded data removed]",
      "text/plain": [
       "<matplotlib.figure.Figure at 0x7fc45360dc88>"
      ]
     },
     "metadata": {
      "needs_background": "light"
     },
     "output_type": "display_data"
    }
   ],
   "source": [
    "#Ploting the volumes of each cluster plus null values for the customer data\n",
    "figure(num=None, figsize=(7, 4))\n",
    "plt.subplot(1, 2, 1)\n",
    "plt.tight_layout()\n",
    "#figure(num=None, figsize=(7, 4))\n",
    "plt.xticks(np.arange(-1,9,1), np.arange(-1,9,1))\n",
    "plt.bar([-1,1,2,3,4,5,6,7,8],cust_cluster_sizes, color = (0.5,0.1,0.5,0.6))\n",
    "plt.title('Vol customer clusters plus nulls')\n",
    "plt.xlabel('Clusters')\n",
    "plt.ylabel('Volume')\n",
    "plt.tight_layout()\n",
    "\n",
    "\n",
    "#plotting the volumes of each cluster plus null values for the general population data.\n",
    "plt.subplot(1,2,2)\n",
    "plt.xticks(np.arange(-1,9,1), np.arange(-1,9,1))\n",
    "plt.bar([-1,1,2,3,4,5,6,7,8],gen_cluster_sizes, color = (0.5,0.1,0.5,0.6))\n",
    "plt.title('Vol gen pop clusters plus nulls')\n",
    "plt.xlabel('Clusters')\n",
    "plt.ylabel('Volume')\n",
    "plt.tight_layout()\n"
   ]
  },
  {
   "cell_type": "markdown",
   "metadata": {},
   "source": [
    "We can see that in the general population, the volume of null values does not look out of the ordinary for the cluster sizes, however in the customer data, the number of rows removed for too high null values is a much larger proportion and is the 2nd largest cluster."
   ]
  },
  {
   "cell_type": "code",
   "execution_count": 22,
   "metadata": {
    "scrolled": true
   },
   "outputs": [
    {
     "name": "stdout",
     "output_type": "stream",
     "text": [
      "The percentage of the general population data where the row has more than 30 null values is 11.68%\n"
     ]
    }
   ],
   "source": [
    "z = no_rows_removed_nans_gen_pop/gen_pop_size\n",
    "\n",
    "print(\"The percentage of the general population data where the row has more than 30 null values is \"+\"{:.2%}\".format(z))"
   ]
  },
  {
   "cell_type": "code",
   "execution_count": 21,
   "metadata": {},
   "outputs": [
    {
     "name": "stdout",
     "output_type": "stream",
     "text": [
      "The percentage of the customer data where the row has more than 30 null values is 35.23%\n"
     ]
    }
   ],
   "source": [
    "x=no_rows_removed_nans_cust/cust_pop_size\n",
    "\n",
    "print(\"The percentage of the customer data where the row has more than 30 null values is \"+\"{:.2%}\".format(x))"
   ]
  },
  {
   "cell_type": "code",
   "execution_count": 128,
   "metadata": {},
   "outputs": [
    {
     "data": {
      "image/png": "[encoded data removed]",
      "text/plain": [
       "<matplotlib.figure.Figure at 0x7fc3edea4b00>"
      ]
     },
     "metadata": {
      "needs_background": "light"
     },
     "output_type": "display_data"
    }
   ],
   "source": [
    "#Ploting the percentage each cluster holds plus null values for the customer data\n",
    "figure(num=None, figsize=(7, 4))\n",
    "plt.subplot(1, 2, 1)\n",
    "plt.tight_layout()\n",
    "#figure(num=None, figsize=(7, 4))\n",
    "plt.xticks(np.arange(-1,9,1), np.arange(-1,9,1))\n",
    "plt.bar([-1,1,2,3,4,5,6,7,8],np.array(cust_cluster_sizes)/cust_pop_size*100, color = 'c')\n",
    "plt.title('Vol customer clusters plus nulls')\n",
    "plt.xlabel('Clusters')\n",
    "plt.ylabel('Volume')\n",
    "plt.tight_layout()\n",
    "\n",
    "\n",
    "#plotting the percentage each cluster holds plus null values for the general population data.\n",
    "plt.subplot(1,2,2)\n",
    "plt.xticks(np.arange(-1,9,1), np.arange(-1,9,1))\n",
    "plt.bar([-1,1,2,3,4,5,6,7,8],np.array(gen_cluster_sizes)/gen_pop_size*100, color = 'c')\n",
    "plt.title('Vol gen pop clusters plus nulls')\n",
    "plt.xlabel('Clusters')\n",
    "plt.ylabel('Volume')\n",
    "plt.tight_layout()\n",
    "\n"
   ]
  },
  {
   "cell_type": "markdown",
   "metadata": {},
   "source": [
    "I have run the kmeans algorithm multiple times for 8 clusters and each time there in the customer data, there is 1 segment that holds most of the volume. In this iteration the 2nd cluster is massively over represented in the customer data set compared to the general population data. In gen pop 12.46% of customers are in segment 3, but in the customer data set 72.14% of customers are in segment 2. This would suggest that segment 2 would be the best target population for the company.\n",
    "\n",
    "For the customer data there is also a much higher proportion of null valued rows (c.35% compared to 12%)"
   ]
  },
  {
   "cell_type": "code",
   "execution_count": 183,
   "metadata": {},
   "outputs": [
    {
     "data": {
      "text/plain": [
       "array([ 35.22903672,   0.90669188,  72.14868336,   9.48816009,\n",
       "         0.85588891,   8.98436398,   2.07657136,   4.42832548,   1.11131495])"
      ]
     },
     "execution_count": 183,
     "metadata": {},
     "output_type": "execute_result"
    }
   ],
   "source": [
    "np.array(gen_cluster_sizes)/gen_pop_size*100 - np.array(cust_cluster_sizes)/cust_pop_size*100"
   ]
  },
  {
   "cell_type": "code",
   "execution_count": 160,
   "metadata": {},
   "outputs": [],
   "source": [
    "#Do inverse transform to get centroids into origional space\n",
    "cust_clusters_data = pd.DataFrame(scaler.inverse_transform(pca.inverse_transform(kmeans.cluster_centers_)),columns = cust_data.columns)"
   ]
  },
  {
   "cell_type": "code",
   "execution_count": 165,
   "metadata": {},
   "outputs": [
    {
     "data": {
      "text/html": [
       "<div>\n",
       "<style scoped>\n",
       "    .dataframe tbody tr th:only-of-type {\n",
       "        vertical-align: middle;\n",
       "    }\n",
       "\n",
       "    .dataframe tbody tr th {\n",
       "        vertical-align: top;\n",
       "    }\n",
       "\n",
       "    .dataframe thead th {\n",
       "        text-align: right;\n",
       "    }\n",
       "</style>\n",
       "<table border=\"1\" class=\"dataframe\">\n",
       "  <thead>\n",
       "    <tr style=\"text-align: right;\">\n",
       "      <th></th>\n",
       "      <th>ALTERSKATEGORIE_GROB</th>\n",
       "      <th>ANREDE_KZ</th>\n",
       "      <th>FINANZ_MINIMALIST</th>\n",
       "      <th>FINANZ_SPARER</th>\n",
       "      <th>FINANZ_VORSORGER</th>\n",
       "      <th>FINANZ_ANLEGER</th>\n",
       "      <th>FINANZ_UNAUFFAELLIGER</th>\n",
       "      <th>FINANZ_HAUSBAUER</th>\n",
       "      <th>GEBURTSJAHR</th>\n",
       "      <th>GREEN_AVANTGARDE</th>\n",
       "      <th>...</th>\n",
       "      <th>CAMEO_DEUG_2015_6</th>\n",
       "      <th>CAMEO_DEUG_2015_7</th>\n",
       "      <th>CAMEO_DEUG_2015_8</th>\n",
       "      <th>CAMEO_DEUG_2015_9</th>\n",
       "      <th>PRAEGENDE_JUGENDJAHRE_decade</th>\n",
       "      <th>PRAEGENDE_JUGENDJAHRE_mov</th>\n",
       "      <th>CAMEO_INTL_2015_Wealth</th>\n",
       "      <th>CAMEO_INTL_2015_Life_T</th>\n",
       "      <th>WOHNLAGE_rural</th>\n",
       "      <th>GEBAEUDETYP_5.0</th>\n",
       "    </tr>\n",
       "  </thead>\n",
       "  <tbody>\n",
       "    <tr>\n",
       "      <th>0</th>\n",
       "      <td>1.919839</td>\n",
       "      <td>-0.031974</td>\n",
       "      <td>1.857427</td>\n",
       "      <td>4.403761</td>\n",
       "      <td>2.053878</td>\n",
       "      <td>3.627777</td>\n",
       "      <td>3.810047</td>\n",
       "      <td>3.661555</td>\n",
       "      <td>1978.904206</td>\n",
       "      <td>0.097623</td>\n",
       "      <td>...</td>\n",
       "      <td>0.062792</td>\n",
       "      <td>0.119126</td>\n",
       "      <td>0.139769</td>\n",
       "      <td>0.287213</td>\n",
       "      <td>0.307706</td>\n",
       "      <td>5.687061</td>\n",
       "      <td>0.108083</td>\n",
       "      <td>2.103744</td>\n",
       "      <td>4.292619</td>\n",
       "      <td>0.045152</td>\n",
       "    </tr>\n",
       "    <tr>\n",
       "      <th>1</th>\n",
       "      <td>3.398082</td>\n",
       "      <td>0.500856</td>\n",
       "      <td>4.537697</td>\n",
       "      <td>1.545731</td>\n",
       "      <td>4.343638</td>\n",
       "      <td>1.732906</td>\n",
       "      <td>2.038552</td>\n",
       "      <td>2.196091</td>\n",
       "      <td>1959.739295</td>\n",
       "      <td>0.991510</td>\n",
       "      <td>...</td>\n",
       "      <td>0.063418</td>\n",
       "      <td>0.094283</td>\n",
       "      <td>0.039990</td>\n",
       "      <td>0.028580</td>\n",
       "      <td>0.014314</td>\n",
       "      <td>3.480122</td>\n",
       "      <td>0.992780</td>\n",
       "      <td>3.631687</td>\n",
       "      <td>2.018703</td>\n",
       "      <td>0.117097</td>\n",
       "    </tr>\n",
       "    <tr>\n",
       "      <th>2</th>\n",
       "      <td>3.291709</td>\n",
       "      <td>0.044998</td>\n",
       "      <td>3.335964</td>\n",
       "      <td>1.914881</td>\n",
       "      <td>4.257352</td>\n",
       "      <td>1.576285</td>\n",
       "      <td>1.714505</td>\n",
       "      <td>3.552920</td>\n",
       "      <td>1960.146699</td>\n",
       "      <td>0.097379</td>\n",
       "      <td>...</td>\n",
       "      <td>0.059414</td>\n",
       "      <td>0.159916</td>\n",
       "      <td>0.131524</td>\n",
       "      <td>0.312012</td>\n",
       "      <td>0.247688</td>\n",
       "      <td>3.483175</td>\n",
       "      <td>0.103803</td>\n",
       "      <td>2.388916</td>\n",
       "      <td>4.237443</td>\n",
       "      <td>0.055958</td>\n",
       "    </tr>\n",
       "    <tr>\n",
       "      <th>3</th>\n",
       "      <td>2.033080</td>\n",
       "      <td>0.967473</td>\n",
       "      <td>2.444482</td>\n",
       "      <td>3.860640</td>\n",
       "      <td>2.306822</td>\n",
       "      <td>4.321218</td>\n",
       "      <td>3.928242</td>\n",
       "      <td>2.686379</td>\n",
       "      <td>1977.035986</td>\n",
       "      <td>0.223080</td>\n",
       "      <td>...</td>\n",
       "      <td>0.082024</td>\n",
       "      <td>0.130749</td>\n",
       "      <td>0.061593</td>\n",
       "      <td>0.044538</td>\n",
       "      <td>0.023457</td>\n",
       "      <td>5.585318</td>\n",
       "      <td>0.232812</td>\n",
       "      <td>3.200055</td>\n",
       "      <td>2.430875</td>\n",
       "      <td>0.432782</td>\n",
       "    </tr>\n",
       "    <tr>\n",
       "      <th>4</th>\n",
       "      <td>3.555009</td>\n",
       "      <td>0.973358</td>\n",
       "      <td>2.651070</td>\n",
       "      <td>1.785228</td>\n",
       "      <td>4.336799</td>\n",
       "      <td>2.191249</td>\n",
       "      <td>1.667046</td>\n",
       "      <td>4.258139</td>\n",
       "      <td>1958.869754</td>\n",
       "      <td>0.079625</td>\n",
       "      <td>...</td>\n",
       "      <td>0.060626</td>\n",
       "      <td>0.179875</td>\n",
       "      <td>0.136351</td>\n",
       "      <td>0.310023</td>\n",
       "      <td>0.197656</td>\n",
       "      <td>3.246599</td>\n",
       "      <td>0.092856</td>\n",
       "      <td>2.721632</td>\n",
       "      <td>4.132951</td>\n",
       "      <td>0.087353</td>\n",
       "    </tr>\n",
       "    <tr>\n",
       "      <th>5</th>\n",
       "      <td>2.081613</td>\n",
       "      <td>-0.003082</td>\n",
       "      <td>3.614185</td>\n",
       "      <td>3.654829</td>\n",
       "      <td>2.326765</td>\n",
       "      <td>3.530721</td>\n",
       "      <td>3.859502</td>\n",
       "      <td>1.679106</td>\n",
       "      <td>1976.661338</td>\n",
       "      <td>0.363786</td>\n",
       "      <td>...</td>\n",
       "      <td>0.078109</td>\n",
       "      <td>0.114730</td>\n",
       "      <td>0.053514</td>\n",
       "      <td>0.040440</td>\n",
       "      <td>0.015244</td>\n",
       "      <td>5.513054</td>\n",
       "      <td>0.365911</td>\n",
       "      <td>3.259775</td>\n",
       "      <td>2.308662</td>\n",
       "      <td>0.433626</td>\n",
       "    </tr>\n",
       "    <tr>\n",
       "      <th>6</th>\n",
       "      <td>3.439294</td>\n",
       "      <td>0.485757</td>\n",
       "      <td>4.280232</td>\n",
       "      <td>1.570197</td>\n",
       "      <td>4.349107</td>\n",
       "      <td>2.389586</td>\n",
       "      <td>1.721948</td>\n",
       "      <td>2.490155</td>\n",
       "      <td>1959.623679</td>\n",
       "      <td>-0.009313</td>\n",
       "      <td>...</td>\n",
       "      <td>0.086204</td>\n",
       "      <td>0.126830</td>\n",
       "      <td>0.074189</td>\n",
       "      <td>0.031443</td>\n",
       "      <td>0.010814</td>\n",
       "      <td>3.394002</td>\n",
       "      <td>-0.004847</td>\n",
       "      <td>3.382435</td>\n",
       "      <td>2.428479</td>\n",
       "      <td>0.606391</td>\n",
       "    </tr>\n",
       "    <tr>\n",
       "      <th>7</th>\n",
       "      <td>1.822481</td>\n",
       "      <td>0.992063</td>\n",
       "      <td>1.133223</td>\n",
       "      <td>4.333767</td>\n",
       "      <td>2.269263</td>\n",
       "      <td>4.188998</td>\n",
       "      <td>3.748908</td>\n",
       "      <td>4.181355</td>\n",
       "      <td>1976.130304</td>\n",
       "      <td>0.029600</td>\n",
       "      <td>...</td>\n",
       "      <td>0.059051</td>\n",
       "      <td>0.120773</td>\n",
       "      <td>0.142423</td>\n",
       "      <td>0.302094</td>\n",
       "      <td>0.301158</td>\n",
       "      <td>5.536467</td>\n",
       "      <td>0.047568</td>\n",
       "      <td>2.100067</td>\n",
       "      <td>4.318617</td>\n",
       "      <td>0.009550</td>\n",
       "    </tr>\n",
       "  </tbody>\n",
       "</table>\n",
       "<p>8 rows × 129 columns</p>\n",
       "</div>"
      ],
      "text/plain": [
       "   ALTERSKATEGORIE_GROB  ANREDE_KZ  FINANZ_MINIMALIST  FINANZ_SPARER  \\\n",
       "0              1.919839  -0.031974           1.857427       4.403761   \n",
       "1              3.398082   0.500856           4.537697       1.545731   \n",
       "2              3.291709   0.044998           3.335964       1.914881   \n",
       "3              2.033080   0.967473           2.444482       3.860640   \n",
       "4              3.555009   0.973358           2.651070       1.785228   \n",
       "5              2.081613  -0.003082           3.614185       3.654829   \n",
       "6              3.439294   0.485757           4.280232       1.570197   \n",
       "7              1.822481   0.992063           1.133223       4.333767   \n",
       "\n",
       "   FINANZ_VORSORGER  FINANZ_ANLEGER  FINANZ_UNAUFFAELLIGER  FINANZ_HAUSBAUER  \\\n",
       "0          2.053878        3.627777               3.810047          3.661555   \n",
       "1          4.343638        1.732906               2.038552          2.196091   \n",
       "2          4.257352        1.576285               1.714505          3.552920   \n",
       "3          2.306822        4.321218               3.928242          2.686379   \n",
       "4          4.336799        2.191249               1.667046          4.258139   \n",
       "5          2.326765        3.530721               3.859502          1.679106   \n",
       "6          4.349107        2.389586               1.721948          2.490155   \n",
       "7          2.269263        4.188998               3.748908          4.181355   \n",
       "\n",
       "   GEBURTSJAHR  GREEN_AVANTGARDE       ...         CAMEO_DEUG_2015_6  \\\n",
       "0  1978.904206          0.097623       ...                  0.062792   \n",
       "1  1959.739295          0.991510       ...                  0.063418   \n",
       "2  1960.146699          0.097379       ...                  0.059414   \n",
       "3  1977.035986          0.223080       ...                  0.082024   \n",
       "4  1958.869754          0.079625       ...                  0.060626   \n",
       "5  1976.661338          0.363786       ...                  0.078109   \n",
       "6  1959.623679         -0.009313       ...                  0.086204   \n",
       "7  1976.130304          0.029600       ...                  0.059051   \n",
       "\n",
       "   CAMEO_DEUG_2015_7  CAMEO_DEUG_2015_8  CAMEO_DEUG_2015_9  \\\n",
       "0           0.119126           0.139769           0.287213   \n",
       "1           0.094283           0.039990           0.028580   \n",
       "2           0.159916           0.131524           0.312012   \n",
       "3           0.130749           0.061593           0.044538   \n",
       "4           0.179875           0.136351           0.310023   \n",
       "5           0.114730           0.053514           0.040440   \n",
       "6           0.126830           0.074189           0.031443   \n",
       "7           0.120773           0.142423           0.302094   \n",
       "\n",
       "   PRAEGENDE_JUGENDJAHRE_decade  PRAEGENDE_JUGENDJAHRE_mov  \\\n",
       "0                      0.307706                   5.687061   \n",
       "1                      0.014314                   3.480122   \n",
       "2                      0.247688                   3.483175   \n",
       "3                      0.023457                   5.585318   \n",
       "4                      0.197656                   3.246599   \n",
       "5                      0.015244                   5.513054   \n",
       "6                      0.010814                   3.394002   \n",
       "7                      0.301158                   5.536467   \n",
       "\n",
       "   CAMEO_INTL_2015_Wealth  CAMEO_INTL_2015_Life_T  WOHNLAGE_rural  \\\n",
       "0                0.108083                2.103744        4.292619   \n",
       "1                0.992780                3.631687        2.018703   \n",
       "2                0.103803                2.388916        4.237443   \n",
       "3                0.232812                3.200055        2.430875   \n",
       "4                0.092856                2.721632        4.132951   \n",
       "5                0.365911                3.259775        2.308662   \n",
       "6               -0.004847                3.382435        2.428479   \n",
       "7                0.047568                2.100067        4.318617   \n",
       "\n",
       "   GEBAEUDETYP_5.0  \n",
       "0         0.045152  \n",
       "1         0.117097  \n",
       "2         0.055958  \n",
       "3         0.432782  \n",
       "4         0.087353  \n",
       "5         0.433626  \n",
       "6         0.606391  \n",
       "7         0.009550  \n",
       "\n",
       "[8 rows x 129 columns]"
      ]
     },
     "execution_count": 165,
     "metadata": {},
     "output_type": "execute_result"
    }
   ],
   "source": [
    "cust_clusters_data"
   ]
  },
  {
   "cell_type": "markdown",
   "metadata": {},
   "source": [
    "Looking at cluster 1 for the over represented cluster, we see that these customers are more likely to be male and are generally older, born late 50's to early 60's and are aged 46+. They are interested in finances, are big money savers and investors but don't feel financially prepared. Interestingly, almost all of them were involved in environment groups in their youth. They're also low for sensual and event oriented minds and much more religious and tradition minded."
   ]
  },
  {
   "cell_type": "code",
   "execution_count": 164,
   "metadata": {
    "scrolled": true
   },
   "outputs": [
    {
     "data": {
      "text/plain": [
       "ALTERSKATEGORIE_GROB               3.398082\n",
       "ANREDE_KZ                          0.500856\n",
       "FINANZ_MINIMALIST                  4.537697\n",
       "FINANZ_SPARER                      1.545731\n",
       "FINANZ_VORSORGER                   4.343638\n",
       "FINANZ_ANLEGER                     1.732906\n",
       "FINANZ_UNAUFFAELLIGER              2.038552\n",
       "FINANZ_HAUSBAUER                   2.196091\n",
       "GEBURTSJAHR                     1959.739295\n",
       "GREEN_AVANTGARDE                   0.991510\n",
       "HEALTH_TYP                         2.071717\n",
       "SEMIO_SOZ                          4.087259\n",
       "SEMIO_FAM                          3.420372\n",
       "SEMIO_REL                          2.905190\n",
       "SEMIO_MAT                          3.087885\n",
       "SEMIO_VERT                         4.690118\n",
       "SEMIO_LUST                         5.372850\n",
       "SEMIO_ERL                          5.247378\n",
       "SEMIO_KULT                         3.434145\n",
       "SEMIO_RAT                          3.088398\n",
       "SEMIO_KRIT                         4.378693\n",
       "SEMIO_DOM                          4.727635\n",
       "SEMIO_KAEM                         4.253369\n",
       "SEMIO_PFLICHT                      3.125859\n",
       "SEMIO_TRADV                        2.953289\n",
       "SOHO_KZ                            0.008403\n",
       "VERS_TYP                           0.500887\n",
       "ALTER_HH                          14.444662\n",
       "ANZ_PERSONEN                       2.235586\n",
       "ANZ_TITEL                          0.012559\n",
       "                                   ...     \n",
       "ZABEOTYP_4                         0.081040\n",
       "ZABEOTYP_5                        -0.027839\n",
       "ZABEOTYP_6                         0.030496\n",
       "KK_KUNDENTYP_1.0                   0.077621\n",
       "KK_KUNDENTYP_2.0                   0.112538\n",
       "KK_KUNDENTYP_3.0                   0.121487\n",
       "KK_KUNDENTYP_4.0                   0.079621\n",
       "KK_KUNDENTYP_5.0                   0.084980\n",
       "KK_KUNDENTYP_6.0                   0.079130\n",
       "GEBAEUDETYP_1.0                    0.750763\n",
       "GEBAEUDETYP_2.0                    0.010897\n",
       "GEBAEUDETYP_3.0                    0.111666\n",
       "GEBAEUDETYP_4.0                    0.002289\n",
       "GEBAEUDETYP_6.0                    0.000001\n",
       "GEBAEUDETYP_8.0                    0.001107\n",
       "CAMEO_DEUG_2015_1                  0.123277\n",
       "CAMEO_DEUG_2015_2                  0.156767\n",
       "CAMEO_DEUG_2015_3                  0.271735\n",
       "CAMEO_DEUG_2015_4                  0.154432\n",
       "CAMEO_DEUG_2015_5                  0.172932\n",
       "CAMEO_DEUG_2015_6                  0.063418\n",
       "CAMEO_DEUG_2015_7                  0.094283\n",
       "CAMEO_DEUG_2015_8                  0.039990\n",
       "CAMEO_DEUG_2015_9                  0.028580\n",
       "PRAEGENDE_JUGENDJAHRE_decade       0.014314\n",
       "PRAEGENDE_JUGENDJAHRE_mov          3.480122\n",
       "CAMEO_INTL_2015_Wealth             0.992780\n",
       "CAMEO_INTL_2015_Life_T             3.631687\n",
       "WOHNLAGE_rural                     2.018703\n",
       "GEBAEUDETYP_5.0                    0.117097\n",
       "Name: 1, Length: 129, dtype: float64"
      ]
     },
     "execution_count": 164,
     "metadata": {},
     "output_type": "execute_result"
    }
   ],
   "source": [
    "cust_clusters_data.iloc[1]"
   ]
  },
  {
   "cell_type": "code",
   "execution_count": 184,
   "metadata": {
    "scrolled": true
   },
   "outputs": [
    {
     "data": {
      "text/plain": [
       "ALTERSKATEGORIE_GROB               1.822481\n",
       "ANREDE_KZ                          0.992063\n",
       "FINANZ_MINIMALIST                  1.133223\n",
       "FINANZ_SPARER                      4.333767\n",
       "FINANZ_VORSORGER                   2.269263\n",
       "FINANZ_ANLEGER                     4.188998\n",
       "FINANZ_UNAUFFAELLIGER              3.748908\n",
       "FINANZ_HAUSBAUER                   4.181355\n",
       "GEBURTSJAHR                     1976.130304\n",
       "GREEN_AVANTGARDE                   0.029600\n",
       "HEALTH_TYP                         2.209134\n",
       "SEMIO_SOZ                          3.243193\n",
       "SEMIO_FAM                          3.857691\n",
       "SEMIO_REL                          5.216463\n",
       "SEMIO_MAT                          4.702608\n",
       "SEMIO_VERT                         2.277628\n",
       "SEMIO_LUST                         3.208247\n",
       "SEMIO_ERL                          4.446564\n",
       "SEMIO_KULT                         3.996560\n",
       "SEMIO_RAT                          5.916718\n",
       "SEMIO_KRIT                         5.472305\n",
       "SEMIO_DOM                          6.083333\n",
       "SEMIO_KAEM                         6.087875\n",
       "SEMIO_PFLICHT                      5.998419\n",
       "SEMIO_TRADV                        5.315187\n",
       "SOHO_KZ                            0.007978\n",
       "VERS_TYP                           0.449762\n",
       "ALTER_HH                          16.709020\n",
       "ANZ_PERSONEN                       1.468460\n",
       "ANZ_TITEL                          0.003469\n",
       "                                   ...     \n",
       "ZABEOTYP_4                         0.467880\n",
       "ZABEOTYP_5                         0.282075\n",
       "ZABEOTYP_6                         0.109824\n",
       "KK_KUNDENTYP_1.0                   0.043481\n",
       "KK_KUNDENTYP_2.0                   0.068250\n",
       "KK_KUNDENTYP_3.0                   0.064399\n",
       "KK_KUNDENTYP_4.0                   0.046063\n",
       "KK_KUNDENTYP_5.0                   0.049974\n",
       "KK_KUNDENTYP_6.0                   0.048130\n",
       "GEBAEUDETYP_1.0                    0.421127\n",
       "GEBAEUDETYP_2.0                    0.003281\n",
       "GEBAEUDETYP_3.0                    0.310549\n",
       "GEBAEUDETYP_4.0                    0.001005\n",
       "GEBAEUDETYP_6.0                   -0.000010\n",
       "GEBAEUDETYP_8.0                    0.000694\n",
       "CAMEO_DEUG_2015_1                  0.263353\n",
       "CAMEO_DEUG_2015_2                  0.008751\n",
       "CAMEO_DEUG_2015_3                  0.009541\n",
       "CAMEO_DEUG_2015_4                  0.028094\n",
       "CAMEO_DEUG_2015_5                  0.023903\n",
       "CAMEO_DEUG_2015_6                  0.059051\n",
       "CAMEO_DEUG_2015_7                  0.120773\n",
       "CAMEO_DEUG_2015_8                  0.142423\n",
       "CAMEO_DEUG_2015_9                  0.302094\n",
       "PRAEGENDE_JUGENDJAHRE_decade       0.301158\n",
       "PRAEGENDE_JUGENDJAHRE_mov          5.536467\n",
       "CAMEO_INTL_2015_Wealth             0.047568\n",
       "CAMEO_INTL_2015_Life_T             2.100067\n",
       "WOHNLAGE_rural                     4.318617\n",
       "GEBAEUDETYP_5.0                    0.009550\n",
       "Name: 7, Length: 129, dtype: float64"
      ]
     },
     "execution_count": 184,
     "metadata": {},
     "output_type": "execute_result"
    }
   ],
   "source": [
    "cust_clusters_data.iloc[7]"
   ]
  },
  {
   "cell_type": "markdown",
   "metadata": {},
   "source": [
    "Looking at cluster 8 for the under represented group, with a difference of 11% between the two datasets. In the general population, cluster 8 has 12.3% of the population, but in the customer data, only 1.1% are in cluster 8.\n",
    "\n",
    "This segment seems to be a younger group of people, born in the 70's and mostly under 45. This group has more females in than segment 1 and they are much less financially savy, with low levels of home ownership, investing and saving. They are dreamful, social and family minded and are low for dominant and combatative traits."
   ]
  },
  {
   "cell_type": "markdown",
   "metadata": {},
   "source": [
    "### Discussion 3.3: Compare Customer Data to Demographics Data\n",
    "\n",
    "See in line comments."
   ]
  },
  {
   "cell_type": "markdown",
   "metadata": {},
   "source": [
    "> Congratulations on making it this far in the project! Before you finish, make sure to check through the entire notebook from top to bottom to make sure that your analysis follows a logical flow and all of your findings are documented in **Discussion** cells. Once you've checked over all of your work, you should export the notebook as an HTML document to submit for evaluation. You can do this from the menu, navigating to **File -> Download as -> HTML (.html)**. You will submit both that document and this notebook for your project submission."
   ]
  },
  {
   "cell_type": "code",
   "execution_count": null,
   "metadata": {},
   "outputs": [],
   "source": []
  }
 ],
 "metadata": {
  "kernelspec": {
   "display_name": "Python 3",
   "language": "python",
   "name": "python3"
  },
  "language_info": {
   "codemirror_mode": {
    "name": "ipython",
    "version": 3
   },
   "file_extension": ".py",
   "mimetype": "text/x-python",
   "name": "python",
   "nbconvert_exporter": "python",
   "pygments_lexer": "ipython3",
   "version": "3.6.3"
  }
 },
 "nbformat": 4,
 "nbformat_minor": 2
}
